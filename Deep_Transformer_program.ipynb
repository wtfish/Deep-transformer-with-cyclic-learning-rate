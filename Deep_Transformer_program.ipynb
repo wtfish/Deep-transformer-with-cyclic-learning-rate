{
  "cells": [
    {
      "cell_type": "markdown",
      "metadata": {
        "id": "qLAb_-riTz0i"
      },
      "source": []
    },
    {
      "cell_type": "markdown",
      "metadata": {
        "id": "2Wf2udUrhYzQ"
      },
      "source": [
        "# Deep Transformer\n"
      ]
    },
    {
      "cell_type": "markdown",
      "metadata": {
        "id": "uqbgp_VZhPjA"
      },
      "source": [
        "## Library"
      ]
    },
    {
      "cell_type": "code",
      "execution_count": 1,
      "metadata": {
        "id": "Pik-ValOhq8U"
      },
      "outputs": [],
      "source": [
        "import torch\n",
        "from torch import nn, einsum\n",
        "from torch.nn.modules.linear import Linear\n",
        "import torch.optim as optim\n",
        "import torch.nn.functional as F\n",
        "import math\n",
        "import numpy as np\n",
        "from functools import partial\n",
        "import matplotlib.pyplot as plt"
      ]
    },
    {
      "cell_type": "markdown",
      "metadata": {
        "id": "IryxH6ZFrpLo"
      },
      "source": [
        "## Model"
      ]
    },
    {
      "cell_type": "markdown",
      "metadata": {
        "id": "-OCkFTnihw9k"
      },
      "source": [
        "Full Attention"
      ]
    },
    {
      "cell_type": "code",
      "execution_count": 2,
      "metadata": {
        "id": "bzUtBtG7hwZe"
      },
      "outputs": [],
      "source": [
        "def full_attention(query, key, value, causal=False, dropout=0.0):\n",
        "    device = key.device\n",
        "    B_k, h_k, n_k, d_k = key.shape\n",
        "    B_q, h_q, n_q, d_q = query.shape\n",
        "\n",
        "    scale = einsum(\"bhqd,bhkd->bhqk\", query, key)/math.sqrt(d_k)\n",
        "\n",
        "    if causal:\n",
        "        ones = torch.ones(B_k, h_k, n_q, n_k).to(device)\n",
        "        mask = torch.tril(ones)\n",
        "        scale = scale.masked_fill(mask == 0, -1e9)\n",
        "    atn = F.softmax(scale, dim=-1)\n",
        "    if dropout is not None:\n",
        "        atn = F.dropout(atn, p=dropout)\n",
        "    out = einsum(\"bhqk,bhkd->bhqd\", atn, value)\n",
        "    return out"
      ]
    },
    {
      "cell_type": "code",
      "execution_count": 3,
      "metadata": {
        "id": "SG2zO9xrN9CA"
      },
      "outputs": [],
      "source": [
        "def to_eachhead(x, head_num, split_num=3):\n",
        "    B, n, pre_d = x.shape\n",
        "    new_d = pre_d//split_num\n",
        "    assert pre_d%split_num == 0, f\"have to be multiple of {split_num}\"\n",
        "    assert new_d%head_num == 0, \"dim must be divided by head_num\"\n",
        "\n",
        "    tpl = torch.chunk(x, split_num, dim=2)\n",
        "    out = []\n",
        "    for t in tpl:\n",
        "        out.append(t.reshape(B, n, head_num, new_d//head_num).transpose(1,2))\n",
        "    return out"
      ]
    },
    {
      "cell_type": "code",
      "execution_count": 4,
      "metadata": {
        "id": "MBKXBwhSOFnS"
      },
      "outputs": [],
      "source": [
        "def concat_head(x):\n",
        "    B, h, n, _d = x.shape\n",
        "    out = x.transpose(1,2).reshape(B, n, _d*h)\n",
        "    return out"
      ]
    },
    {
      "cell_type": "markdown",
      "metadata": {
        "id": "EtedPTrxiDyG"
      },
      "source": [
        "Positional Encoding"
      ]
    },
    {
      "cell_type": "code",
      "execution_count": 5,
      "metadata": {
        "id": "NhTmV24Zg8tI"
      },
      "outputs": [],
      "source": [
        "class PositionalEncoding(nn.Module):\n",
        "    def __init__(self, d_model: int, #dropout: float = 0.1,\n",
        "                 max_len: int = 100):\n",
        "        super().__init__()\n",
        "        # self.dropout = nn.Dropout(p=dropout)\n",
        "\n",
        "        position = torch.arange(max_len).unsqueeze(1)\n",
        "        div_term = torch.exp(torch.arange(0, d_model, 2) * (-math.log(10000.0) / d_model))\n",
        "        pe = torch.zeros(max_len, 1, d_model)\n",
        "        pe[:, 0, 0::2] = torch.sin(position * div_term)\n",
        "        pe[:, 0, 1::2] = torch.cos(position * div_term)\n",
        "        self.register_buffer('pe', pe.squeeze(1))\n",
        "\n",
        "    def forward(self, x: torch.Tensor) -> torch.Tensor:\n",
        "        x = x + self.pe[:x.size(1)]\n",
        "        # return self.dropout(x)\n",
        "        return x"
      ]
    },
    {
      "cell_type": "markdown",
      "metadata": {
        "id": "oKrmu6OBP8G9"
      },
      "source": [
        "Pre-layer"
      ]
    },
    {
      "cell_type": "code",
      "execution_count": 6,
      "metadata": {
        "id": "OiJ8GvefQAWZ"
      },
      "outputs": [],
      "source": [
        "class PreLayer(nn.Module):\n",
        "    def __init__(self, hid, d_model, drop_out=0.0, in_dim=1):\n",
        "        super().__init__()\n",
        "        # self.linear = nn.Linear(in_dim, d_model)\n",
        "        self.linear1 = nn.Linear(in_dim, hid, bias=True)\n",
        "        self.relu = nn.ReLU()\n",
        "        self.linear2 = nn.Linear(hid, d_model, bias=True)\n",
        "\n",
        "\n",
        "    def forward(self, x):\n",
        "        # out = self.linear(x)\n",
        "        out = self.linear1(x)\n",
        "        out = self.relu(out)\n",
        "        out = self.linear2(out)\n",
        "        return out"
      ]
    },
    {
      "cell_type": "markdown",
      "metadata": {
        "id": "i85xI01ZP-r-"
      },
      "source": [
        "Post-layer"
      ]
    },
    {
      "cell_type": "code",
      "execution_count": 7,
      "metadata": {
        "id": "v3JWCaq2QGV7"
      },
      "outputs": [],
      "source": [
        "class PostLayer(nn.Module):\n",
        "    def __init__(self, dim, vocab_num, hid_dim, dropout_ratio):\n",
        "        super().__init__()\n",
        "        # self.linear = nn.Linear(dim, vocab_num)\n",
        "        self.linear1 = nn.Linear(dim, hid_dim, bias=True)\n",
        "        self.relu = nn.ReLU()\n",
        "        self.linear2 = nn.Linear(hid_dim, vocab_num, bias=True)\n",
        "    def forward(self,x):\n",
        "        # out = self.linear(x)\n",
        "        out = self.linear1(x)\n",
        "        out = self.relu(out)\n",
        "        out = self.linear2(out)\n",
        "        return out"
      ]
    },
    {
      "cell_type": "markdown",
      "metadata": {
        "id": "5elRhXaaQhF3"
      },
      "source": [
        "Multi-head Attention"
      ]
    },
    {
      "cell_type": "markdown",
      "metadata": {
        "id": "TRR-8kZlhz6e"
      },
      "source": [
        "1) Multi-head Self Attention"
      ]
    },
    {
      "cell_type": "code",
      "execution_count": 8,
      "metadata": {
        "id": "IQemVp6yh2Jc"
      },
      "outputs": [],
      "source": [
        "class MultiHeadSelfAttention(nn.Module):\n",
        "    def __init__(self, dim, head_num):\n",
        "        super().__init__()\n",
        "        self.to_qvk = nn.Linear(dim, dim*3)\n",
        "        self.make_head = partial(to_eachhead, head_num=head_num, split_num=3)\n",
        "        self.mhsa = full_attention\n",
        "\n",
        "    def forward(self, x):\n",
        "        qvk = self.to_qvk(x)\n",
        "        q, v, k = self.make_head(qvk)\n",
        "        out = self.mhsa(q, k, v)\n",
        "        out = concat_head(out)\n",
        "        return out"
      ]
    },
    {
      "cell_type": "markdown",
      "metadata": {
        "id": "EGcwyuxhQyPV"
      },
      "source": [
        "2) Multi-head Causal Attention"
      ]
    },
    {
      "cell_type": "code",
      "execution_count": 9,
      "metadata": {
        "id": "96fRrPGOQ08N"
      },
      "outputs": [],
      "source": [
        "class MultiHeadCausalAttention(nn.Module):\n",
        "    def __init__(self, dim, head_num):\n",
        "        super().__init__()\n",
        "        self.to_qvk = nn.Linear(dim, dim*3)\n",
        "        self.make_head = partial(to_eachhead, head_num=head_num, split_num=3)\n",
        "        self.mhca = partial(full_attention, causal=True)\n",
        "\n",
        "    def forward(self, x):\n",
        "        qvk = self.to_qvk(x)\n",
        "        q, v, k = self.make_head(qvk)\n",
        "        out = self.mhca(q, k, v)\n",
        "        out = concat_head(out)\n",
        "        return out"
      ]
    },
    {
      "cell_type": "markdown",
      "metadata": {
        "id": "r2tUHWZnQ3mQ"
      },
      "source": [
        "3) Multi-head Source Attention"
      ]
    },
    {
      "cell_type": "code",
      "execution_count": 10,
      "metadata": {
        "id": "mptn46JXQ4AC"
      },
      "outputs": [],
      "source": [
        "class MultiHeadSourceAttention(nn.Module):\n",
        "    def __init__(self, dim, head_num):\n",
        "        super().__init__()\n",
        "        self.to_kv = nn.Linear(dim, dim*2)\n",
        "        self.to_q = nn.Linear(dim, dim)\n",
        "        self.make_head_kv = partial(to_eachhead, head_num=head_num, split_num=2)\n",
        "        self.make_head_q = partial(to_eachhead, head_num=head_num, split_num=1)\n",
        "        self.mhsa = full_attention\n",
        "\n",
        "    def forward(self, x, memory):\n",
        "        mem = self.to_kv(memory)\n",
        "        x = self.to_q(x)\n",
        "        k, v = self.make_head_kv(mem)\n",
        "        q = self.make_head_q(x)[0]\n",
        "        out = self.mhsa(q, k, v)\n",
        "        out = concat_head(out)\n",
        "        return out"
      ]
    },
    {
      "cell_type": "markdown",
      "metadata": {
        "id": "mn_j1AYOh8qI"
      },
      "source": [
        "Feed Fordward"
      ]
    },
    {
      "cell_type": "code",
      "execution_count": 11,
      "metadata": {
        "id": "TE57qHUpiAnL"
      },
      "outputs": [],
      "source": [
        "class FeedForward(nn.Module):\n",
        "    def __init__(self, dim, hid_dim):\n",
        "        super().__init__()\n",
        "        self.linear1 = nn.Linear(dim, hid_dim, bias=True)\n",
        "        self.relu = nn.ReLU()\n",
        "        self.linear2 = nn.Linear(hid_dim, dim, bias=True)\n",
        "\n",
        "    def forward(self, x):\n",
        "        out = self.linear1(x)\n",
        "        out = self.relu(out)\n",
        "        out = self.linear2(out)\n",
        "        return out"
      ]
    },
    {
      "cell_type": "markdown",
      "metadata": {
        "id": "D0Loy-Y6ibjG"
      },
      "source": [
        "Encoder"
      ]
    },
    {
      "cell_type": "code",
      "execution_count": 12,
      "metadata": {
        "id": "Yoepwo5WiuKP"
      },
      "outputs": [],
      "source": [
        "class EncoderLayer(nn.Module):\n",
        "    def __init__(self, dim, head_num, ff_hidnum, dropout_ratio, norm_first=False):\n",
        "        super().__init__()\n",
        "        self.dor = dropout_ratio\n",
        "        self.mhsa = MultiHeadSelfAttention(dim, head_num)\n",
        "        self.ln1 = nn.LayerNorm(dim)\n",
        "        self.ff = FeedForward(dim, ff_hidnum)\n",
        "        self.ln2 = nn.LayerNorm(dim)\n",
        "        self.norm_first = norm_first\n",
        "\n",
        "    def forward(self, x):\n",
        "        res = torch.clone(x)\n",
        "\n",
        "        if self.norm_first:\n",
        "          out = self.ln1(x)\n",
        "          out = self.mhsa(out)\n",
        "          out = F.dropout(out, p=self.dor) + res\n",
        "\n",
        "          res = torch.clone(out)\n",
        "          out = self.ln2(out)\n",
        "          out = self.ff(out)\n",
        "          out = F.dropout(out, p=self.dor) + res\n",
        "        else:\n",
        "          out = self.mhsa(x)\n",
        "          out = F.dropout(out, p=self.dor) + res\n",
        "          out = self.ln1(out)\n",
        "\n",
        "          res = torch.clone(out)\n",
        "          out = self.ff(out)\n",
        "          out = F.dropout(out, p=self.dor) + res\n",
        "          out = self.ln2(out)\n",
        "\n",
        "        return out"
      ]
    },
    {
      "cell_type": "code",
      "execution_count": 13,
      "metadata": {
        "id": "Z-HJWJ_nffA7"
      },
      "outputs": [],
      "source": [
        "class Encoder(nn.Module):\n",
        "    def __init__(self, depth, dim, head_num, ff_hidnum=2048, dropout_ratio=0.2, norm_first=False):\n",
        "        super().__init__()\n",
        "        self.layers = nn.ModuleList([EncoderLayer(dim, head_num, ff_hidnum, dropout_ratio, norm_first) for i in range(depth)])\n",
        "\n",
        "    def forward(self, x):\n",
        "        for layer in self.layers:\n",
        "            x = layer(x)\n",
        "        return x"
      ]
    },
    {
      "cell_type": "markdown",
      "metadata": {
        "id": "ZXnhQ17bivln"
      },
      "source": [
        "Decoder"
      ]
    },
    {
      "cell_type": "code",
      "execution_count": 14,
      "metadata": {
        "id": "ad789UZyi0GJ"
      },
      "outputs": [],
      "source": [
        "class DecoderLayer(nn.Module):\n",
        "    def __init__(self, dim, head_num, ff_hidnum, dropout_ratio, norm_first=False):\n",
        "        super().__init__()\n",
        "        self.dor = dropout_ratio\n",
        "        self.mhca = MultiHeadCausalAttention(dim, head_num)\n",
        "        self.ln1 = nn.LayerNorm(dim)\n",
        "        self.mhsa = MultiHeadSourceAttention(dim, head_num)\n",
        "        self.ln2 = nn.LayerNorm(dim)\n",
        "        self.ff = FeedForward(dim, ff_hidnum)\n",
        "        self.ln3 = nn.LayerNorm(dim)\n",
        "        self.norm_first = norm_first\n",
        "\n",
        "    def forward(self, x, memory):\n",
        "        res = torch.clone(x)\n",
        "\n",
        "        if self.norm_first:\n",
        "          out = self.ln1(x)\n",
        "          out = self.mhca(out)\n",
        "          out = F.dropout(out, p=self.dor) + res\n",
        "\n",
        "          res = torch.clone(out)\n",
        "          out = self.ln2(out)\n",
        "          out = self.mhsa(out, memory)\n",
        "          out = F.dropout(out, p=self.dor) + res\n",
        "\n",
        "          res = torch.clone(out)\n",
        "          out = self.ln3(out)\n",
        "          out = self.ff(out)\n",
        "          out = F.dropout(out, p=self.dor) + res\n",
        "\n",
        "        else:\n",
        "          out = self.mhca(x)\n",
        "          out = F.dropout(out, p=self.dor) + res\n",
        "          out = self.ln1(out)\n",
        "\n",
        "          res = torch.clone(out)\n",
        "          out = self.mhsa(out, memory)\n",
        "          out = F.dropout(out, p=self.dor) + res\n",
        "          out = self.ln2(out)\n",
        "\n",
        "          res = torch.clone(out)\n",
        "          out = self.ff(out)\n",
        "          out = F.dropout(out, p=self.dor) + res\n",
        "          out = self.ln3(out)\n",
        "\n",
        "        return out"
      ]
    },
    {
      "cell_type": "code",
      "execution_count": 15,
      "metadata": {
        "id": "F4w_yvb_ffA8"
      },
      "outputs": [],
      "source": [
        "class Decoder(nn.Module):\n",
        "    def __init__(self, depth, dim, head_num, ff_hidnum, dropout_ratio=0.2, norm_first=False):\n",
        "        super().__init__()\n",
        "        self.layers = nn.ModuleList([DecoderLayer(dim, head_num, ff_hidnum, dropout_ratio, norm_first) for i in range(depth)])\n",
        "\n",
        "    def forward(self, x, memory):\n",
        "        for layer in self.layers:\n",
        "            x = layer(x, memory)\n",
        "        return x"
      ]
    },
    {
      "cell_type": "markdown",
      "metadata": {
        "id": "2x-lKLAljNGT"
      },
      "source": [
        "Transformer"
      ]
    },
    {
      "cell_type": "code",
      "execution_count": 16,
      "metadata": {
        "id": "EiUSMgetjOhX"
      },
      "outputs": [],
      "source": [
        "class Transformer(nn.Module):\n",
        "    def __init__(self, device, d_model, in_dim, N_enc, N_dec, h_enc, h_dec, ff_hidnum, hid_pre, hid_post, dropout_pre, dropout_post, dropout_model, norm_first=False):\n",
        "        super().__init__()\n",
        "        self.device = device\n",
        "        self.x_pre = PreLayer(hid_pre, d_model, dropout_pre, in_dim)\n",
        "        self.y_pre = PreLayer(hid_pre, d_model, dropout_pre, in_dim)\n",
        "        self.pos = PositionalEncoding(d_model)\n",
        "        self.enc = Encoder(N_enc,d_model, h_enc, ff_hidnum, dropout_model, norm_first)\n",
        "        self.dec = Decoder(N_dec,d_model, h_dec, ff_hidnum, dropout_model, norm_first)\n",
        "        self.post = PostLayer(d_model, 1, hid_post, dropout_post)\n",
        "\n",
        "    def forward(self, x, y):\n",
        "        x_emb = self.x_pre(x)\n",
        "        y_emb = self.y_pre(y)\n",
        "        x_emb_pos = self.pos(x_emb)\n",
        "        y_emb_pos = self.pos(y_emb)\n",
        "        memory = self.enc(x_emb_pos)\n",
        "        out = self.dec(y_emb_pos, memory)\n",
        "        out = self.post(out)\n",
        "        out = out.squeeze(-1)\n",
        "        return out\n",
        "\n",
        "    def generate(self, x, forcast_step, y_start,multivariate=False):\n",
        "        device = x.device\n",
        "        x = x.to(device)\n",
        "        B, N, D = x.shape\n",
        "        x = self.x_pre(x) \n",
        "        x = self.pos(x)\n",
        "        z = self.enc(x) \n",
        "        y = y_start\n",
        "        for i in range(forcast_step):\n",
        "            y_pred = self.y_pre(y)\n",
        "            y_pred = self.pos(y_pred)\n",
        "            y_pred = self.dec(y_pred, z)\n",
        "            y_pred = self.post(y_pred)\n",
        "            if multivariate:\n",
        "                y = torch.cat([y, y_pred[:,[-1],:]], dim=2)\n",
        "            else:\n",
        "                y = torch.cat([y, y_pred[:,[-1],:]], dim=1)\n",
        "        y_pred = y_pred.squeeze(-1)\n",
        "        return y_pred"
      ]
    },
    {
      "cell_type": "markdown",
      "metadata": {
        "id": "gXfmpn8JnJVk"
      },
      "source": [
        "## Dataset"
      ]
    },
    {
      "cell_type": "code",
      "execution_count": 17,
      "metadata": {
        "id": "ex8jTggGnLHl"
      },
      "outputs": [],
      "source": [
        "class Dataset(torch.utils.data.Dataset):\n",
        "    def __init__(self, data, input_step, predict_step):\n",
        "        super().__init__()\n",
        "        self.data = data\n",
        "        self.predict_step = predict_step\n",
        "        self.input_step = input_step\n",
        "        self.start_max = self.data.shape[0] - (self.predict_step + self.input_step) + 1\n",
        "        self.datalen = self.start_max\n",
        "\n",
        "    def __len__(self):\n",
        "        return self.datalen\n",
        "\n",
        "    def __getitem__(self, idx):\n",
        "        start_idx = idx % self.start_max\n",
        "        predict_idx = start_idx + self.input_step\n",
        "        end_idx = predict_idx + self.predict_step\n",
        "\n",
        "        x = self.data[start_idx:predict_idx, :]\n",
        "        y = self.data[predict_idx-1:end_idx-1, :]\n",
        "        tgt = self.data[predict_idx:end_idx, :]\n",
        "\n",
        "        x = torch.from_numpy(x)\n",
        "        y = torch.from_numpy(y)\n",
        "        tgt = torch.from_numpy(tgt)\n",
        "\n",
        "        return x, y, tgt"
      ]
    },
    {
      "cell_type": "code",
      "execution_count": 18,
      "metadata": {
        "id": "rnHFWhIq_G9B"
      },
      "outputs": [],
      "source": [
        "# data_path = 'https://data.covid19.go.id/public/api/update.json'\n",
        "# data_path = 'update_22-3-2022.json'\n",
        "import requests\n",
        "import json\n",
        "import pandas as pd\n",
        "\n",
        "def load_data(data_path, dataset_len=None, test_size=30,multivariate=False):\n",
        "    # data = requests.get(data_path).json() if from_api else pd.read_json(data_path)\n",
        "\n",
        "    # data = pd.DataFrame(data['update']['harian'])[['key','jumlah_positif']]\n",
        "    # data.key = pd.to_datetime(data.key, unit='ms')\n",
        "\n",
        "    # data=pd.read_csv(data_path)\n",
        "    # data=data[[\"V1\",\"V2\"]]\n",
        "    # data = data.set_index('V1')\n",
        "\n",
        "    # ETTm2\n",
        "    data=pd.read_csv(data_path)\n",
        "    data=data[[\"date\",\"OT\",\"MULL\"]]\n",
        "    data = data.set_index('date')\n",
        "\n",
        "    # Turbine Dataset\n",
        "    # data=pd.read_csv(data_path)\n",
        "    # data = data.rename(columns={data.columns[0]: 'Date'}) \n",
        "    # data=data.dropna(subset=[\"ActivePower\"])\n",
        "    # data=data[[\"Date\",\"ActivePower\"]]\n",
        "    # data = data.set_index('Date')\n",
        "\n",
        "\n",
        "    data_len = data.shape[0]\n",
        "    if multivariate:\n",
        "        numpy_use = data.to_numpy()\n",
        "        original_data = data\n",
        "        from sklearn.preprocessing import MinMaxScaler\n",
        "        numpy_use_jii = data['OT'].to_numpy()\n",
        "        scaler = MinMaxScaler(feature_range=(-1, 1))\n",
        "        numpy_use_jii = scaler.fit_transform(numpy_use_jii.reshape(-1,1))\n",
        "        scaler_all = MinMaxScaler(feature_range=(-1, 1)) \n",
        "        numpy_use = scaler_all.fit_transform(numpy_use)\n",
        "        \n",
        "        train_val, test_only = numpy_use[:data_len - test_size,:], numpy_use[data_len - test_size:,:]\n",
        "        train_num = data_len//10 * 8\n",
        "        train_data = train_val[:train_num].astype(\"float32\")\n",
        "        val_data = train_val[train_num:].astype(\"float32\")\n",
        "        test_data = test_only.astype(\"float32\")\n",
        "        return train_data, val_data, test_data, scaler, original_data\n",
        "    else:\n",
        "        numpy_use = data['OT'].to_numpy()\n",
        "        original_data = data[\"OT\"]\n",
        "        from sklearn.preprocessing import MinMaxScaler\n",
        "        scaler = MinMaxScaler(feature_range=(-1, 1)) \n",
        "        numpy_use = scaler.fit_transform(numpy_use.reshape(-1,1))\n",
        "        \n",
        "        train_val, test_only = numpy_use[:numpy_use.size - test_size], numpy_use[numpy_use.size - test_size:]\n",
        "        train_num = data_len//10 * 8\n",
        "        train_data = train_val[:train_num].astype(\"float32\")\n",
        "        val_data = train_val[train_num:].astype(\"float32\")\n",
        "        test_data = test_only.astype(\"float32\")\n",
        "        return train_data, val_data, test_data, scaler, original_data"
      ]
    },
    {
      "cell_type": "code",
      "execution_count": 19,
      "metadata": {
        "id": "31h68SUS9RXp"
      },
      "outputs": [],
      "source": [
        "def make_dataloader(train_data, val_data, test_data, input_step, predict_step, batch_size, shuffle_train=True, shuffle_val=False):\n",
        "    train_set = Dataset(train_data, input_step, predict_step)\n",
        "    val_set = Dataset(val_data, input_step, predict_step)\n",
        "    test_set = Dataset(test_data, input_step, predict_step)\n",
        "\n",
        "    train_loader = torch.utils.data.DataLoader(train_set, batch_size, shuffle=shuffle_train)\n",
        "    val_loader = torch.utils.data.DataLoader(val_set, batch_size=batch_size, shuffle=shuffle_val)\n",
        "    test_loader = torch.utils.data.DataLoader(test_set, batch_size=batch_size, shuffle=False)\n",
        "\n",
        "    return train_loader, val_loader, test_loader"
      ]
    },
    {
      "cell_type": "markdown",
      "metadata": {
        "id": "w06YpJZsjhC1"
      },
      "source": [
        "## Training"
      ]
    },
    {
      "cell_type": "markdown",
      "metadata": {
        "id": "0oUlzDFPFWJo"
      },
      "source": [
        "Training Utils"
      ]
    },
    {
      "cell_type": "code",
      "execution_count": 20,
      "metadata": {
        "id": "sp15c4v5nBPP"
      },
      "outputs": [],
      "source": [
        "def lr_func(step, d_model):\n",
        "    warmup_steps = 5000\n",
        "    step_term = min(step**0.5, step*warmup_steps**(-1.5))\n",
        "    return d_model**0.5 * step_term"
      ]
    },
    {
      "cell_type": "code",
      "execution_count": 21,
      "metadata": {
        "id": "SEU5QlGno7Fe"
      },
      "outputs": [],
      "source": [
        "import random\n",
        "\n",
        "def fix_seed(seed):\n",
        "    # random\n",
        "    random.seed(seed)\n",
        "    # Numpy\n",
        "    np.random.seed(seed)\n",
        "    # Pytorch\n",
        "    torch.manual_seed(seed)\n",
        "    torch.cuda.manual_seed_all(seed)\n",
        "    torch.backends.cudnn.deterministic = True\n",
        "    torch.backends.cudnn.benchmark = False"
      ]
    },
    {
      "cell_type": "code",
      "execution_count": 22,
      "metadata": {
        "id": "bU8xeHRaVcOY"
      },
      "outputs": [],
      "source": [
        "## Calculate MSE eval\n",
        "def check_data(device, test_loader, net, criterion):\n",
        "    net.eval()\n",
        "    loss_log = []\n",
        "    for iter, (x, y, tgt) in enumerate(test_loader):\n",
        "        x, y, tgt = x.to(device), y.to(device), tgt.to(device)\n",
        "        tgt = tgt[:,:,0]\n",
        "\n",
        "        out = net(x, y)\n",
        "\n",
        "        loss = criterion(out, tgt)\n",
        "        loss_log.append(loss.item())\n",
        "\n",
        "    return sum(loss_log)/len(loss_log)# MSE"
      ]
    },
    {
      "cell_type": "code",
      "execution_count": 23,
      "metadata": {
        "id": "QALsb7NgGa7j"
      },
      "outputs": [],
      "source": [
        "import torch\n",
        "import numpy as np\n",
        "import os"
      ]
    },
    {
      "cell_type": "code",
      "execution_count": 24,
      "metadata": {
        "id": "YfvsfI1po23t"
      },
      "outputs": [],
      "source": [
        "torch.set_printoptions(precision=5, sci_mode=False)\n",
        "np.set_printoptions(precision=5, suppress=True)\n",
        "\n",
        "device = torch.device(\"cuda\" if torch.cuda.is_available() else \"cpu\")\n",
        "fix_seed(30)"
      ]
    },
    {
      "cell_type": "markdown",
      "metadata": {
        "id": "AZ9GnGwskDQu"
      },
      "source": [
        "Hyper-parameter"
      ]
    },
    {
      "cell_type": "code",
      "execution_count": 25,
      "metadata": {
        "id": "BQSrVcnikGNC"
      },
      "outputs": [],
      "source": [
        "input_step = 4\n",
        "predict_step = 1\n",
        "d_model = 64\n",
        "batch_size =1014\n",
        "max_epoch = 100\n",
        "in_dim = 2\n",
        "N_enc = 1\n",
        "N_dec = 1\n",
        "h_enc = 1\n",
        "h_dec = 1\n",
        "ff_hidnum = 100\n",
        "hid_pre = 100\n",
        "hid_post = 100\n",
        "dropout_pre = 0\n",
        "dropout_post = 0\n",
        "dropout_model = 0\n",
        "save_each = 10\n",
        "multi=True\n",
        "norm_first = False # default = False (Post-LN)\n",
        "# dbg = args.debug\n",
        "model_path = 'content/model/'\n",
        "test_result_path = 'content/test_result_path/'"
      ]
    },
    {
      "cell_type": "code",
      "execution_count": 26,
      "metadata": {
        "id": "C3Hd_iTWFjH6"
      },
      "outputs": [],
      "source": [
        "# dir_list = [\"/content/model/\",\"/content/test_result_path/\"]\n",
        "\n",
        "# for dir in dir_list:\n",
        "#   if os.path.isdir(dir) != True:\n",
        "#     os.mkdir(dir)"
      ]
    },
    {
      "cell_type": "markdown",
      "metadata": {
        "id": "gBYIHpPmjYmz"
      },
      "source": [
        "Load Data"
      ]
    },
    {
      "cell_type": "code",
      "execution_count": 27,
      "metadata": {
        "id": "NvTeaHQ5BAhc"
      },
      "outputs": [],
      "source": [
        "train, val, test, scaler, original = load_data(\"data/ETTm2.csv\", test_size=120,multivariate=multi)\n",
        "# train, val, test, scaler, original = load_data('update 12-05-2022.json', from_api=False,\n",
        "#                                                          dataset_len=750, test_size=60)#input_step+predict_step+60)"
      ]
    },
    {
      "cell_type": "code",
      "execution_count": 28,
      "metadata": {
        "colab": {
          "base_uri": "https://localhost:8080/"
        },
        "id": "vqJtpGULQmxD",
        "outputId": "320303bd-4713-45f3-c6c3-dc7232bf8314"
      },
      "outputs": [
        {
          "data": {
            "text/plain": [
              "((55744, 2), (13816, 2), (120, 2))"
            ]
          },
          "execution_count": 28,
          "metadata": {},
          "output_type": "execute_result"
        }
      ],
      "source": [
        "train.shape, val.shape, test.shape"
      ]
    },
    {
      "cell_type": "code",
      "execution_count": 29,
      "metadata": {
        "colab": {
          "base_uri": "https://localhost:8080/"
        },
        "id": "3x1WUTVNT_jB",
        "outputId": "37dd2198-dfd2-4312-f604-ae98e46eca91"
      },
      "outputs": [
        {
          "data": {
            "text/plain": [
              "139360"
            ]
          },
          "execution_count": 29,
          "metadata": {},
          "output_type": "execute_result"
        }
      ],
      "source": [
        "train.size + val.size + test.size"
      ]
    },
    {
      "cell_type": "code",
      "execution_count": 30,
      "metadata": {
        "id": "qUZu79mxBlnb"
      },
      "outputs": [],
      "source": [
        "train_loader, val_loader, test_loader = make_dataloader(train, val, test, input_step, predict_step, batch_size, shuffle_train=True, shuffle_val=True)"
      ]
    },
    {
      "cell_type": "code",
      "execution_count": 31,
      "metadata": {
        "colab": {
          "base_uri": "https://localhost:8080/"
        },
        "id": "8yi2PQ3VLSqk",
        "outputId": "ff16dc83-85a2-43d6-d917-618846c700e9"
      },
      "outputs": [],
      "source": [
        "# best_train_epoch, best_val_epoch"
      ]
    },
    {
      "cell_type": "code",
      "execution_count": 32,
      "metadata": {
        "id": "kfFMRTdJUtG1"
      },
      "outputs": [],
      "source": [
        "# min_plot = best_val_epoch-50 if best_val_epoch >= 50 else 0\n",
        "# max_plot = best_val_epoch+50"
      ]
    },
    {
      "cell_type": "code",
      "execution_count": 33,
      "metadata": {
        "colab": {
          "base_uri": "https://localhost:8080/"
        },
        "id": "khsKyaVOEvKC",
        "outputId": "13397a04-b247-472b-b86c-5d43ff7ace3f"
      },
      "outputs": [],
      "source": [
        "\n",
        "\n",
        "# fig, ax = plt.subplots(figsize=(7,4))\n",
        "# ax.plot(train_loss_np[min_plot:max_plot], label=\"train\")\n",
        "# ax.plot(val_loss_np[min_plot:max_plot], label = \"validation\")\n",
        "# plt.title(\"MSE Loss\")\n",
        "# plt.grid(which='both')\n",
        "# plt.legend()\n",
        "# plt.show()"
      ]
    },
    {
      "cell_type": "markdown",
      "metadata": {},
      "source": [
        "## Manual Run"
      ]
    },
    {
      "cell_type": "markdown",
      "metadata": {},
      "source": [
        "### Cosine Cyclic Learning Rate"
      ]
    },
    {
      "cell_type": "code",
      "execution_count": 34,
      "metadata": {},
      "outputs": [],
      "source": [
        "from torch.optim.lr_scheduler import _LRScheduler\n",
        "class CosineCyclicLR(_LRScheduler):\n",
        "    def __init__(self, optimizer, base_lr, max_lr, step_size, last_epoch=-1):\n",
        "        self.base_lr = base_lr\n",
        "        self.max_lr = max_lr\n",
        "        self.step_size = step_size\n",
        "        super(CosineCyclicLR, self).__init__(optimizer, last_epoch)\n",
        "\n",
        "    def get_lr(self):\n",
        "        cycle = math.floor(1 + self.last_epoch / (2 * self.step_size))\n",
        "        x = abs(self.last_epoch / self.step_size - 2 * cycle + 1)\n",
        "        lr = self.base_lr + (self.max_lr - self.base_lr) * (1 + math.cos(math.pi * x)) / 2\n",
        "        return [lr for _ in self.base_lrs]"
      ]
    },
    {
      "cell_type": "markdown",
      "metadata": {},
      "source": [
        "### Train"
      ]
    },
    {
      "cell_type": "code",
      "execution_count": 35,
      "metadata": {},
      "outputs": [],
      "source": [
        "net = Transformer(device, d_model, in_dim, N_enc, N_dec, h_enc, h_dec, ff_hidnum, hid_pre, hid_post, dropout_pre, dropout_post, dropout_model, norm_first)\n",
        "net = net.to(device)\n",
        "\n",
        "optimizer = optim.Adam(net.parameters(), lr=0.001)\n",
        "scheduler = optim.lr_scheduler.LambdaLR(optimizer, lr_lambda=partial(lr_func, d_model = d_model))"
      ]
    },
    {
      "cell_type": "code",
      "execution_count": 36,
      "metadata": {},
      "outputs": [
        {
          "name": "stdout",
          "output_type": "stream",
          "text": [
            "epoch : 0, MSE loss : 0.19720494747161865, RMSE loss : 0.44407764077186584\n",
            "val_loss : 0.12313847988843918, rmse : 0.3509109287104623\n",
            "\n",
            "epoch : 1, MSE loss : 0.1540604531764984, RMSE loss : 0.39250534772872925\n",
            "val_loss : 0.11785362775509174, rmse : 0.343298161595852\n",
            "\n",
            "epoch : 2, MSE loss : 0.15847595036029816, RMSE loss : 0.3980903923511505\n",
            "val_loss : 0.12124359263823582, rmse : 0.3482005063727447\n",
            "\n",
            "epoch : 3, MSE loss : 0.16134385764598846, RMSE loss : 0.4016762971878052\n",
            "val_loss : 0.11884883848520425, rmse : 0.3447445989210045\n",
            "\n",
            "epoch : 4, MSE loss : 0.16118545830249786, RMSE loss : 0.4014790952205658\n",
            "val_loss : 0.11942060177142803, rmse : 0.3455728602934959\n",
            "\n",
            "epoch : 5, MSE loss : 0.19723449647426605, RMSE loss : 0.4441109001636505\n",
            "val_loss : 0.11915718019008636, rmse : 0.3451915123378418\n",
            "\n",
            "epoch : 6, MSE loss : 0.12903356552124023, RMSE loss : 0.3592124283313751\n",
            "val_loss : 0.12020815622348052, rmse : 0.3467104789640494\n",
            "\n",
            "epoch : 7, MSE loss : 0.15651164948940277, RMSE loss : 0.39561551809310913\n",
            "val_loss : 0.12109005737763184, rmse : 0.3479799669199821\n",
            "\n",
            "epoch : 8, MSE loss : 0.15176601707935333, RMSE loss : 0.38957157731056213\n",
            "val_loss : 0.12050151309141746, rmse : 0.347133278570951\n",
            "\n",
            "epoch : 9, MSE loss : 0.16323025524616241, RMSE loss : 0.4040176570415497\n",
            "val_loss : 0.11928684493670097, rmse : 0.34537927693580717\n",
            "\n",
            "epoch : 10, MSE loss : 0.1470147967338562, RMSE loss : 0.3834250867366791\n",
            "val_loss : 0.11866272240877151, rmse : 0.3444745598861714\n",
            "\n",
            "epoch : 11, MSE loss : 0.14847342669963837, RMSE loss : 0.3853225111961365\n",
            "val_loss : 0.11866618062441166, rmse : 0.3444795794011768\n",
            "\n",
            "epoch : 12, MSE loss : 0.1959167867898941, RMSE loss : 0.44262489676475525\n",
            "val_loss : 0.11906079661387664, rmse : 0.34505187525048553\n",
            "\n",
            "epoch : 13, MSE loss : 0.14957235753536224, RMSE loss : 0.3867458701133728\n",
            "val_loss : 0.12117545822492012, rmse : 0.34810265472259777\n",
            "\n",
            "epoch : 14, MSE loss : 0.1846974641084671, RMSE loss : 0.42976441979408264\n",
            "val_loss : 0.1190651196699876, rmse : 0.3450581395504062\n",
            "\n",
            "epoch : 15, MSE loss : 0.16104359924793243, RMSE loss : 0.40130236744880676\n",
            "val_loss : 0.118609990638036, rmse : 0.3443980119542446\n",
            "\n",
            "epoch : 16, MSE loss : 0.13716129958629608, RMSE loss : 0.37035295367240906\n",
            "val_loss : 0.12067752274183127, rmse : 0.34738670490079393\n",
            "\n",
            "epoch : 17, MSE loss : 0.155845507979393, RMSE loss : 0.3947727382183075\n",
            "val_loss : 0.11877710830706817, rmse : 0.34464054942369765\n",
            "\n",
            "epoch : 18, MSE loss : 0.1535622924566269, RMSE loss : 0.39187026023864746\n",
            "val_loss : 0.1187030438047189, rmse : 0.3445330808568589\n",
            "\n",
            "epoch : 19, MSE loss : 0.15428470075130463, RMSE loss : 0.39279091358184814\n",
            "val_loss : 0.11887785505789977, rmse : 0.34478668051115285\n",
            "\n",
            "epoch : 20, MSE loss : 0.12138178199529648, RMSE loss : 0.348398894071579\n",
            "val_loss : 0.1193583349768932, rmse : 0.34548275641035\n",
            "\n",
            "epoch : 21, MSE loss : 0.188608318567276, RMSE loss : 0.4342905879020691\n",
            "val_loss : 0.11994312245112199, rmse : 0.3463280561131627\n",
            "\n",
            "epoch : 22, MSE loss : 0.15114979445934296, RMSE loss : 0.388779878616333\n",
            "val_loss : 0.12003445396056542, rmse : 0.34645988795323107\n",
            "\n",
            "epoch : 23, MSE loss : 0.18249450623989105, RMSE loss : 0.4271937608718872\n",
            "val_loss : 0.1203635294850056, rmse : 0.34693447433918356\n",
            "\n",
            "epoch : 24, MSE loss : 0.16630257666110992, RMSE loss : 0.40780213475227356\n",
            "val_loss : 0.12012193581232658, rmse : 0.34658611601206213\n",
            "\n",
            "epoch : 25, MSE loss : 0.21522708237171173, RMSE loss : 0.46392571926116943\n",
            "val_loss : 0.12009801772924569, rmse : 0.34655160904148996\n",
            "\n",
            "epoch : 26, MSE loss : 0.20447543263435364, RMSE loss : 0.4521895945072174\n",
            "val_loss : 0.11832416745332572, rmse : 0.3439828011010517\n",
            "\n",
            "epoch : 27, MSE loss : 0.12958545982837677, RMSE loss : 0.3599798083305359\n",
            "val_loss : 0.11942186321203525, rmse : 0.3455746854328819\n",
            "\n",
            "epoch : 28, MSE loss : 0.1666569709777832, RMSE loss : 0.40823641419410706\n",
            "val_loss : 0.11976873358854881, rmse : 0.3460761962177532\n",
            "\n",
            "epoch : 29, MSE loss : 0.18584613502025604, RMSE loss : 0.4310987591743469\n",
            "val_loss : 0.12060463772370265, rmse : 0.3472817843246355\n",
            "\n",
            "epoch : 30, MSE loss : 0.15670053660869598, RMSE loss : 0.3958541750907898\n",
            "val_loss : 0.12056941195176198, rmse : 0.34723106420906813\n",
            "\n",
            "epoch : 31, MSE loss : 0.21220219135284424, RMSE loss : 0.460654079914093\n",
            "val_loss : 0.11948323708314162, rmse : 0.345663473747432\n",
            "\n",
            "epoch : 32, MSE loss : 0.15501812100410461, RMSE loss : 0.39372339844703674\n",
            "val_loss : 0.12028228376920407, rmse : 0.3468173637077649\n",
            "\n",
            "epoch : 33, MSE loss : 0.14128349721431732, RMSE loss : 0.3758769631385803\n",
            "val_loss : 0.11887415154622151, rmse : 0.344781309740278\n",
            "\n",
            "epoch : 34, MSE loss : 0.14691787958145142, RMSE loss : 0.38329869508743286\n",
            "val_loss : 0.11946323743233314, rmse : 0.3456345431699979\n",
            "\n",
            "epoch : 35, MSE loss : 0.18631099164485931, RMSE loss : 0.43163755536079407\n",
            "val_loss : 0.12100609678488511, rmse : 0.34785930602024306\n",
            "\n",
            "epoch : 36, MSE loss : 0.1437266618013382, RMSE loss : 0.37911298871040344\n",
            "val_loss : 0.1194870718396627, rmse : 0.3456690206536633\n",
            "\n",
            "epoch : 37, MSE loss : 0.25508829951286316, RMSE loss : 0.5050626397132874\n",
            "val_loss : 0.11893597417152844, rmse : 0.34487095292518977\n",
            "\n",
            "epoch : 38, MSE loss : 0.24978576600551605, RMSE loss : 0.49978572130203247\n",
            "val_loss : 0.12022152084570664, rmse : 0.3467297518900082\n",
            "\n",
            "epoch : 39, MSE loss : 0.12691625952720642, RMSE loss : 0.35625308752059937\n",
            "val_loss : 0.11964757969746223, rmse : 0.34590111259934136\n",
            "\n",
            "epoch : 40, MSE loss : 0.1843666285276413, RMSE loss : 0.42937934398651123\n",
            "val_loss : 0.11839252251845139, rmse : 0.3440821450154765\n",
            "\n",
            "epoch : 41, MSE loss : 0.15119922161102295, RMSE loss : 0.38884344696998596\n",
            "val_loss : 0.11866484123926896, rmse : 0.3444776353252399\n",
            "\n",
            "epoch : 42, MSE loss : 0.15866772830486298, RMSE loss : 0.3983311653137207\n",
            "val_loss : 0.1193487483721513, rmse : 0.3454688819157976\n",
            "\n",
            "epoch : 43, MSE loss : 0.17841608822345734, RMSE loss : 0.4223932921886444\n",
            "val_loss : 0.12029014183924748, rmse : 0.34682869235293595\n",
            "\n",
            "epoch : 44, MSE loss : 0.16679871082305908, RMSE loss : 0.408409982919693\n",
            "val_loss : 0.11935954655592258, rmse : 0.3454845098639338\n",
            "\n",
            "epoch : 45, MSE loss : 0.1392393410205841, RMSE loss : 0.3731478750705719\n",
            "val_loss : 0.11924056651500556, rmse : 0.3453122739130562\n",
            "\n",
            "epoch : 46, MSE loss : 0.14091414213180542, RMSE loss : 0.3753853142261505\n",
            "val_loss : 0.11991112507306613, rmse : 0.34628185784569504\n",
            "\n",
            "epoch : 47, MSE loss : 0.14774063229560852, RMSE loss : 0.38437044620513916\n",
            "val_loss : 0.11891105885689075, rmse : 0.34483482836988893\n",
            "\n",
            "epoch : 48, MSE loss : 0.0996689721941948, RMSE loss : 0.3157039284706116\n",
            "val_loss : 0.1195203300852042, rmse : 0.34571712437367663\n",
            "\n",
            "epoch : 49, MSE loss : 0.22155077755451202, RMSE loss : 0.4706918001174927\n",
            "val_loss : 0.11925646433463463, rmse : 0.3453352926282436\n",
            "\n",
            "epoch : 50, MSE loss : 0.13622123003005981, RMSE loss : 0.36908161640167236\n",
            "val_loss : 0.11889318663340348, rmse : 0.3448089132162965\n",
            "\n"
          ]
        },
        {
          "ename": "KeyboardInterrupt",
          "evalue": "",
          "output_type": "error",
          "traceback": [
            "\u001b[1;31m---------------------------------------------------------------------------\u001b[0m",
            "\u001b[1;31mKeyboardInterrupt\u001b[0m                         Traceback (most recent call last)",
            "\u001b[1;32mc:\\Users\\arthu\\Documents\\EDUCATION\\Kuliah\\SEM 7\\Code\\Deep_Transformer_clr.ipynb Cell 60\u001b[0m line \u001b[0;36m2\n\u001b[0;32m     <a href='vscode-notebook-cell:/c%3A/Users/arthu/Documents/EDUCATION/Kuliah/SEM%207/Code/Deep_Transformer_clr.ipynb#Y246sZmlsZQ%3D%3D?line=24'>25</a>\u001b[0m tgt \u001b[39m=\u001b[39m tgt[:,:,\u001b[39m0\u001b[39m]\n\u001b[0;32m     <a href='vscode-notebook-cell:/c%3A/Users/arthu/Documents/EDUCATION/Kuliah/SEM%207/Code/Deep_Transformer_clr.ipynb#Y246sZmlsZQ%3D%3D?line=25'>26</a>\u001b[0m net\u001b[39m.\u001b[39mtrain()\n\u001b[1;32m---> <a href='vscode-notebook-cell:/c%3A/Users/arthu/Documents/EDUCATION/Kuliah/SEM%207/Code/Deep_Transformer_clr.ipynb#Y246sZmlsZQ%3D%3D?line=27'>28</a>\u001b[0m out \u001b[39m=\u001b[39m net(x, y)\n\u001b[0;32m     <a href='vscode-notebook-cell:/c%3A/Users/arthu/Documents/EDUCATION/Kuliah/SEM%207/Code/Deep_Transformer_clr.ipynb#Y246sZmlsZQ%3D%3D?line=28'>29</a>\u001b[0m loss \u001b[39m=\u001b[39m criterion(out, tgt)\n\u001b[0;32m     <a href='vscode-notebook-cell:/c%3A/Users/arthu/Documents/EDUCATION/Kuliah/SEM%207/Code/Deep_Transformer_clr.ipynb#Y246sZmlsZQ%3D%3D?line=30'>31</a>\u001b[0m optimizer\u001b[39m.\u001b[39mzero_grad()\n",
            "File \u001b[1;32mc:\\Users\\arthu\\Documents\\EDUCATION\\Kuliah\\SEM 7\\Code\\.venv\\lib\\site-packages\\torch\\nn\\modules\\module.py:1501\u001b[0m, in \u001b[0;36mModule._call_impl\u001b[1;34m(self, *args, **kwargs)\u001b[0m\n\u001b[0;32m   1496\u001b[0m \u001b[39m# If we don't have any hooks, we want to skip the rest of the logic in\u001b[39;00m\n\u001b[0;32m   1497\u001b[0m \u001b[39m# this function, and just call forward.\u001b[39;00m\n\u001b[0;32m   1498\u001b[0m \u001b[39mif\u001b[39;00m \u001b[39mnot\u001b[39;00m (\u001b[39mself\u001b[39m\u001b[39m.\u001b[39m_backward_hooks \u001b[39mor\u001b[39;00m \u001b[39mself\u001b[39m\u001b[39m.\u001b[39m_backward_pre_hooks \u001b[39mor\u001b[39;00m \u001b[39mself\u001b[39m\u001b[39m.\u001b[39m_forward_hooks \u001b[39mor\u001b[39;00m \u001b[39mself\u001b[39m\u001b[39m.\u001b[39m_forward_pre_hooks\n\u001b[0;32m   1499\u001b[0m         \u001b[39mor\u001b[39;00m _global_backward_pre_hooks \u001b[39mor\u001b[39;00m _global_backward_hooks\n\u001b[0;32m   1500\u001b[0m         \u001b[39mor\u001b[39;00m _global_forward_hooks \u001b[39mor\u001b[39;00m _global_forward_pre_hooks):\n\u001b[1;32m-> 1501\u001b[0m     \u001b[39mreturn\u001b[39;00m forward_call(\u001b[39m*\u001b[39margs, \u001b[39m*\u001b[39m\u001b[39m*\u001b[39mkwargs)\n\u001b[0;32m   1502\u001b[0m \u001b[39m# Do not call functions when jit is used\u001b[39;00m\n\u001b[0;32m   1503\u001b[0m full_backward_hooks, non_full_backward_hooks \u001b[39m=\u001b[39m [], []\n",
            "\u001b[1;32mc:\\Users\\arthu\\Documents\\EDUCATION\\Kuliah\\SEM 7\\Code\\Deep_Transformer_clr.ipynb Cell 60\u001b[0m line \u001b[0;36m1\n\u001b[0;32m     <a href='vscode-notebook-cell:/c%3A/Users/arthu/Documents/EDUCATION/Kuliah/SEM%207/Code/Deep_Transformer_clr.ipynb#Y246sZmlsZQ%3D%3D?line=15'>16</a>\u001b[0m y_emb_pos \u001b[39m=\u001b[39m \u001b[39mself\u001b[39m\u001b[39m.\u001b[39mpos(y_emb)\n\u001b[0;32m     <a href='vscode-notebook-cell:/c%3A/Users/arthu/Documents/EDUCATION/Kuliah/SEM%207/Code/Deep_Transformer_clr.ipynb#Y246sZmlsZQ%3D%3D?line=16'>17</a>\u001b[0m memory \u001b[39m=\u001b[39m \u001b[39mself\u001b[39m\u001b[39m.\u001b[39menc(x_emb_pos)\n\u001b[1;32m---> <a href='vscode-notebook-cell:/c%3A/Users/arthu/Documents/EDUCATION/Kuliah/SEM%207/Code/Deep_Transformer_clr.ipynb#Y246sZmlsZQ%3D%3D?line=17'>18</a>\u001b[0m out \u001b[39m=\u001b[39m \u001b[39mself\u001b[39;49m\u001b[39m.\u001b[39;49mdec(y_emb_pos, memory)\n\u001b[0;32m     <a href='vscode-notebook-cell:/c%3A/Users/arthu/Documents/EDUCATION/Kuliah/SEM%207/Code/Deep_Transformer_clr.ipynb#Y246sZmlsZQ%3D%3D?line=18'>19</a>\u001b[0m out \u001b[39m=\u001b[39m \u001b[39mself\u001b[39m\u001b[39m.\u001b[39mpost(out)\n\u001b[0;32m     <a href='vscode-notebook-cell:/c%3A/Users/arthu/Documents/EDUCATION/Kuliah/SEM%207/Code/Deep_Transformer_clr.ipynb#Y246sZmlsZQ%3D%3D?line=19'>20</a>\u001b[0m out \u001b[39m=\u001b[39m out\u001b[39m.\u001b[39msqueeze(\u001b[39m-\u001b[39m\u001b[39m1\u001b[39m)\n",
            "File \u001b[1;32mc:\\Users\\arthu\\Documents\\EDUCATION\\Kuliah\\SEM 7\\Code\\.venv\\lib\\site-packages\\torch\\nn\\modules\\module.py:1501\u001b[0m, in \u001b[0;36mModule._call_impl\u001b[1;34m(self, *args, **kwargs)\u001b[0m\n\u001b[0;32m   1496\u001b[0m \u001b[39m# If we don't have any hooks, we want to skip the rest of the logic in\u001b[39;00m\n\u001b[0;32m   1497\u001b[0m \u001b[39m# this function, and just call forward.\u001b[39;00m\n\u001b[0;32m   1498\u001b[0m \u001b[39mif\u001b[39;00m \u001b[39mnot\u001b[39;00m (\u001b[39mself\u001b[39m\u001b[39m.\u001b[39m_backward_hooks \u001b[39mor\u001b[39;00m \u001b[39mself\u001b[39m\u001b[39m.\u001b[39m_backward_pre_hooks \u001b[39mor\u001b[39;00m \u001b[39mself\u001b[39m\u001b[39m.\u001b[39m_forward_hooks \u001b[39mor\u001b[39;00m \u001b[39mself\u001b[39m\u001b[39m.\u001b[39m_forward_pre_hooks\n\u001b[0;32m   1499\u001b[0m         \u001b[39mor\u001b[39;00m _global_backward_pre_hooks \u001b[39mor\u001b[39;00m _global_backward_hooks\n\u001b[0;32m   1500\u001b[0m         \u001b[39mor\u001b[39;00m _global_forward_hooks \u001b[39mor\u001b[39;00m _global_forward_pre_hooks):\n\u001b[1;32m-> 1501\u001b[0m     \u001b[39mreturn\u001b[39;00m forward_call(\u001b[39m*\u001b[39margs, \u001b[39m*\u001b[39m\u001b[39m*\u001b[39mkwargs)\n\u001b[0;32m   1502\u001b[0m \u001b[39m# Do not call functions when jit is used\u001b[39;00m\n\u001b[0;32m   1503\u001b[0m full_backward_hooks, non_full_backward_hooks \u001b[39m=\u001b[39m [], []\n",
            "\u001b[1;32mc:\\Users\\arthu\\Documents\\EDUCATION\\Kuliah\\SEM 7\\Code\\Deep_Transformer_clr.ipynb Cell 60\u001b[0m line \u001b[0;36m8\n\u001b[0;32m      <a href='vscode-notebook-cell:/c%3A/Users/arthu/Documents/EDUCATION/Kuliah/SEM%207/Code/Deep_Transformer_clr.ipynb#Y246sZmlsZQ%3D%3D?line=5'>6</a>\u001b[0m \u001b[39mdef\u001b[39;00m \u001b[39mforward\u001b[39m(\u001b[39mself\u001b[39m, x, memory):\n\u001b[0;32m      <a href='vscode-notebook-cell:/c%3A/Users/arthu/Documents/EDUCATION/Kuliah/SEM%207/Code/Deep_Transformer_clr.ipynb#Y246sZmlsZQ%3D%3D?line=6'>7</a>\u001b[0m     \u001b[39mfor\u001b[39;00m layer \u001b[39min\u001b[39;00m \u001b[39mself\u001b[39m\u001b[39m.\u001b[39mlayers:\n\u001b[1;32m----> <a href='vscode-notebook-cell:/c%3A/Users/arthu/Documents/EDUCATION/Kuliah/SEM%207/Code/Deep_Transformer_clr.ipynb#Y246sZmlsZQ%3D%3D?line=7'>8</a>\u001b[0m         x \u001b[39m=\u001b[39m layer(x, memory)\n\u001b[0;32m      <a href='vscode-notebook-cell:/c%3A/Users/arthu/Documents/EDUCATION/Kuliah/SEM%207/Code/Deep_Transformer_clr.ipynb#Y246sZmlsZQ%3D%3D?line=8'>9</a>\u001b[0m     \u001b[39mreturn\u001b[39;00m x\n",
            "File \u001b[1;32mc:\\Users\\arthu\\Documents\\EDUCATION\\Kuliah\\SEM 7\\Code\\.venv\\lib\\site-packages\\torch\\nn\\modules\\module.py:1501\u001b[0m, in \u001b[0;36mModule._call_impl\u001b[1;34m(self, *args, **kwargs)\u001b[0m\n\u001b[0;32m   1496\u001b[0m \u001b[39m# If we don't have any hooks, we want to skip the rest of the logic in\u001b[39;00m\n\u001b[0;32m   1497\u001b[0m \u001b[39m# this function, and just call forward.\u001b[39;00m\n\u001b[0;32m   1498\u001b[0m \u001b[39mif\u001b[39;00m \u001b[39mnot\u001b[39;00m (\u001b[39mself\u001b[39m\u001b[39m.\u001b[39m_backward_hooks \u001b[39mor\u001b[39;00m \u001b[39mself\u001b[39m\u001b[39m.\u001b[39m_backward_pre_hooks \u001b[39mor\u001b[39;00m \u001b[39mself\u001b[39m\u001b[39m.\u001b[39m_forward_hooks \u001b[39mor\u001b[39;00m \u001b[39mself\u001b[39m\u001b[39m.\u001b[39m_forward_pre_hooks\n\u001b[0;32m   1499\u001b[0m         \u001b[39mor\u001b[39;00m _global_backward_pre_hooks \u001b[39mor\u001b[39;00m _global_backward_hooks\n\u001b[0;32m   1500\u001b[0m         \u001b[39mor\u001b[39;00m _global_forward_hooks \u001b[39mor\u001b[39;00m _global_forward_pre_hooks):\n\u001b[1;32m-> 1501\u001b[0m     \u001b[39mreturn\u001b[39;00m forward_call(\u001b[39m*\u001b[39margs, \u001b[39m*\u001b[39m\u001b[39m*\u001b[39mkwargs)\n\u001b[0;32m   1502\u001b[0m \u001b[39m# Do not call functions when jit is used\u001b[39;00m\n\u001b[0;32m   1503\u001b[0m full_backward_hooks, non_full_backward_hooks \u001b[39m=\u001b[39m [], []\n",
            "\u001b[1;32mc:\\Users\\arthu\\Documents\\EDUCATION\\Kuliah\\SEM 7\\Code\\Deep_Transformer_clr.ipynb Cell 60\u001b[0m line \u001b[0;36m3\n\u001b[0;32m     <a href='vscode-notebook-cell:/c%3A/Users/arthu/Documents/EDUCATION/Kuliah/SEM%207/Code/Deep_Transformer_clr.ipynb#Y246sZmlsZQ%3D%3D?line=33'>34</a>\u001b[0m out \u001b[39m=\u001b[39m \u001b[39mself\u001b[39m\u001b[39m.\u001b[39mln1(out)\n\u001b[0;32m     <a href='vscode-notebook-cell:/c%3A/Users/arthu/Documents/EDUCATION/Kuliah/SEM%207/Code/Deep_Transformer_clr.ipynb#Y246sZmlsZQ%3D%3D?line=35'>36</a>\u001b[0m res \u001b[39m=\u001b[39m torch\u001b[39m.\u001b[39mclone(out)\n\u001b[1;32m---> <a href='vscode-notebook-cell:/c%3A/Users/arthu/Documents/EDUCATION/Kuliah/SEM%207/Code/Deep_Transformer_clr.ipynb#Y246sZmlsZQ%3D%3D?line=36'>37</a>\u001b[0m out \u001b[39m=\u001b[39m \u001b[39mself\u001b[39;49m\u001b[39m.\u001b[39;49mmhsa(out, memory)\n\u001b[0;32m     <a href='vscode-notebook-cell:/c%3A/Users/arthu/Documents/EDUCATION/Kuliah/SEM%207/Code/Deep_Transformer_clr.ipynb#Y246sZmlsZQ%3D%3D?line=37'>38</a>\u001b[0m out \u001b[39m=\u001b[39m F\u001b[39m.\u001b[39mdropout(out, p\u001b[39m=\u001b[39m\u001b[39mself\u001b[39m\u001b[39m.\u001b[39mdor) \u001b[39m+\u001b[39m res\n\u001b[0;32m     <a href='vscode-notebook-cell:/c%3A/Users/arthu/Documents/EDUCATION/Kuliah/SEM%207/Code/Deep_Transformer_clr.ipynb#Y246sZmlsZQ%3D%3D?line=38'>39</a>\u001b[0m out \u001b[39m=\u001b[39m \u001b[39mself\u001b[39m\u001b[39m.\u001b[39mln2(out)\n",
            "File \u001b[1;32mc:\\Users\\arthu\\Documents\\EDUCATION\\Kuliah\\SEM 7\\Code\\.venv\\lib\\site-packages\\torch\\nn\\modules\\module.py:1501\u001b[0m, in \u001b[0;36mModule._call_impl\u001b[1;34m(self, *args, **kwargs)\u001b[0m\n\u001b[0;32m   1496\u001b[0m \u001b[39m# If we don't have any hooks, we want to skip the rest of the logic in\u001b[39;00m\n\u001b[0;32m   1497\u001b[0m \u001b[39m# this function, and just call forward.\u001b[39;00m\n\u001b[0;32m   1498\u001b[0m \u001b[39mif\u001b[39;00m \u001b[39mnot\u001b[39;00m (\u001b[39mself\u001b[39m\u001b[39m.\u001b[39m_backward_hooks \u001b[39mor\u001b[39;00m \u001b[39mself\u001b[39m\u001b[39m.\u001b[39m_backward_pre_hooks \u001b[39mor\u001b[39;00m \u001b[39mself\u001b[39m\u001b[39m.\u001b[39m_forward_hooks \u001b[39mor\u001b[39;00m \u001b[39mself\u001b[39m\u001b[39m.\u001b[39m_forward_pre_hooks\n\u001b[0;32m   1499\u001b[0m         \u001b[39mor\u001b[39;00m _global_backward_pre_hooks \u001b[39mor\u001b[39;00m _global_backward_hooks\n\u001b[0;32m   1500\u001b[0m         \u001b[39mor\u001b[39;00m _global_forward_hooks \u001b[39mor\u001b[39;00m _global_forward_pre_hooks):\n\u001b[1;32m-> 1501\u001b[0m     \u001b[39mreturn\u001b[39;00m forward_call(\u001b[39m*\u001b[39margs, \u001b[39m*\u001b[39m\u001b[39m*\u001b[39mkwargs)\n\u001b[0;32m   1502\u001b[0m \u001b[39m# Do not call functions when jit is used\u001b[39;00m\n\u001b[0;32m   1503\u001b[0m full_backward_hooks, non_full_backward_hooks \u001b[39m=\u001b[39m [], []\n",
            "\u001b[1;32mc:\\Users\\arthu\\Documents\\EDUCATION\\Kuliah\\SEM 7\\Code\\Deep_Transformer_clr.ipynb Cell 60\u001b[0m line \u001b[0;36m1\n\u001b[0;32m     <a href='vscode-notebook-cell:/c%3A/Users/arthu/Documents/EDUCATION/Kuliah/SEM%207/Code/Deep_Transformer_clr.ipynb#Y246sZmlsZQ%3D%3D?line=12'>13</a>\u001b[0m k, v \u001b[39m=\u001b[39m \u001b[39mself\u001b[39m\u001b[39m.\u001b[39mmake_head_kv(mem)\n\u001b[0;32m     <a href='vscode-notebook-cell:/c%3A/Users/arthu/Documents/EDUCATION/Kuliah/SEM%207/Code/Deep_Transformer_clr.ipynb#Y246sZmlsZQ%3D%3D?line=13'>14</a>\u001b[0m q \u001b[39m=\u001b[39m \u001b[39mself\u001b[39m\u001b[39m.\u001b[39mmake_head_q(x)[\u001b[39m0\u001b[39m]\n\u001b[1;32m---> <a href='vscode-notebook-cell:/c%3A/Users/arthu/Documents/EDUCATION/Kuliah/SEM%207/Code/Deep_Transformer_clr.ipynb#Y246sZmlsZQ%3D%3D?line=14'>15</a>\u001b[0m out \u001b[39m=\u001b[39m \u001b[39mself\u001b[39;49m\u001b[39m.\u001b[39;49mmhsa(q, k, v)\n\u001b[0;32m     <a href='vscode-notebook-cell:/c%3A/Users/arthu/Documents/EDUCATION/Kuliah/SEM%207/Code/Deep_Transformer_clr.ipynb#Y246sZmlsZQ%3D%3D?line=15'>16</a>\u001b[0m out \u001b[39m=\u001b[39m concat_head(out)\n\u001b[0;32m     <a href='vscode-notebook-cell:/c%3A/Users/arthu/Documents/EDUCATION/Kuliah/SEM%207/Code/Deep_Transformer_clr.ipynb#Y246sZmlsZQ%3D%3D?line=16'>17</a>\u001b[0m \u001b[39mreturn\u001b[39;00m out\n",
            "\u001b[1;32mc:\\Users\\arthu\\Documents\\EDUCATION\\Kuliah\\SEM 7\\Code\\Deep_Transformer_clr.ipynb Cell 60\u001b[0m line \u001b[0;36m1\n\u001b[0;32m     <a href='vscode-notebook-cell:/c%3A/Users/arthu/Documents/EDUCATION/Kuliah/SEM%207/Code/Deep_Transformer_clr.ipynb#Y246sZmlsZQ%3D%3D?line=12'>13</a>\u001b[0m \u001b[39mif\u001b[39;00m dropout \u001b[39mis\u001b[39;00m \u001b[39mnot\u001b[39;00m \u001b[39mNone\u001b[39;00m:\n\u001b[0;32m     <a href='vscode-notebook-cell:/c%3A/Users/arthu/Documents/EDUCATION/Kuliah/SEM%207/Code/Deep_Transformer_clr.ipynb#Y246sZmlsZQ%3D%3D?line=13'>14</a>\u001b[0m     atn \u001b[39m=\u001b[39m F\u001b[39m.\u001b[39mdropout(atn, p\u001b[39m=\u001b[39mdropout)\n\u001b[1;32m---> <a href='vscode-notebook-cell:/c%3A/Users/arthu/Documents/EDUCATION/Kuliah/SEM%207/Code/Deep_Transformer_clr.ipynb#Y246sZmlsZQ%3D%3D?line=14'>15</a>\u001b[0m out \u001b[39m=\u001b[39m einsum(\u001b[39m\"\u001b[39;49m\u001b[39mbhqk,bhkd->bhqd\u001b[39;49m\u001b[39m\"\u001b[39;49m, atn, value)\n\u001b[0;32m     <a href='vscode-notebook-cell:/c%3A/Users/arthu/Documents/EDUCATION/Kuliah/SEM%207/Code/Deep_Transformer_clr.ipynb#Y246sZmlsZQ%3D%3D?line=15'>16</a>\u001b[0m \u001b[39mreturn\u001b[39;00m out\n",
            "File \u001b[1;32mc:\\Users\\arthu\\Documents\\EDUCATION\\Kuliah\\SEM 7\\Code\\.venv\\lib\\site-packages\\torch\\functional.py:378\u001b[0m, in \u001b[0;36meinsum\u001b[1;34m(*args)\u001b[0m\n\u001b[0;32m    373\u001b[0m     \u001b[39mreturn\u001b[39;00m einsum(equation, \u001b[39m*\u001b[39m_operands)\n\u001b[0;32m    375\u001b[0m \u001b[39mif\u001b[39;00m \u001b[39mlen\u001b[39m(operands) \u001b[39m<\u001b[39m\u001b[39m=\u001b[39m \u001b[39m2\u001b[39m \u001b[39mor\u001b[39;00m \u001b[39mnot\u001b[39;00m opt_einsum\u001b[39m.\u001b[39menabled:\n\u001b[0;32m    376\u001b[0m     \u001b[39m# the path for contracting 0 or 1 time(s) is already optimized\u001b[39;00m\n\u001b[0;32m    377\u001b[0m     \u001b[39m# or the user has disabled using opt_einsum\u001b[39;00m\n\u001b[1;32m--> 378\u001b[0m     \u001b[39mreturn\u001b[39;00m _VF\u001b[39m.\u001b[39;49meinsum(equation, operands)  \u001b[39m# type: ignore[attr-defined]\u001b[39;00m\n\u001b[0;32m    380\u001b[0m path \u001b[39m=\u001b[39m \u001b[39mNone\u001b[39;00m\n\u001b[0;32m    381\u001b[0m \u001b[39mif\u001b[39;00m opt_einsum\u001b[39m.\u001b[39mis_available():\n",
            "\u001b[1;31mKeyboardInterrupt\u001b[0m: "
          ]
        }
      ],
      "source": [
        "import matplotlib.pyplot as plt\n",
        "import scipy\n",
        "\n",
        "train_loss_log = []\n",
        "val_loss_log = []\n",
        "\n",
        "best_train_loss = np.inf\n",
        "best_val_loss = np.inf\n",
        "best_both_loss = (np.inf, np.inf)\n",
        "best_train_epoch = 0\n",
        "best_val_epoch = 0\n",
        "base_lr=0.008697490026177835\n",
        "max_lr_multiplier=8\n",
        "cycle_size=15\n",
        "best_both_epoch = 0\n",
        "criterion = nn.MSELoss()\n",
        "max_iteration = 0\n",
        "for epoch in range(max_epoch):\n",
        "  scheduler = CosineCyclicLR(optimizer, base_lr=base_lr,max_lr=(base_lr*max_lr_multiplier), step_size=cycle_size)\n",
        "  tgt_log_train = np.zeros((1,predict_step))\n",
        "  pred_log_train = np.zeros((1,predict_step))\n",
        "\n",
        "  for iter, (x, y, tgt) in enumerate(train_loader):\n",
        "    x, y, tgt = x.to(device), y.to(device), tgt.to(device)\n",
        "    tgt = tgt[:,:,0]\n",
        "    net.train()\n",
        "            \n",
        "    out = net(x, y)\n",
        "    loss = criterion(out, tgt)\n",
        "            \n",
        "    optimizer.zero_grad()\n",
        "    loss.backward()\n",
        "    optimizer.step()\n",
        "    scheduler.step()\n",
        "            \n",
        "    \n",
        "            \n",
        "    out_npy = out.to('cpu').detach().numpy().copy()\n",
        "    tgt_npy = tgt.to('cpu').detach().numpy().copy()\n",
        "\n",
        "    pred_log_train = np.concatenate([pred_log_train, out_npy], axis=0)\n",
        "    tgt_log_train = np.concatenate([tgt_log_train, tgt_npy], axis=0)    \n",
        "  if epoch == 0:\n",
        "    max_iteration = iter + 1\n",
        "  train_loss_log.append(loss.item())      \n",
        "  val_loss = check_data(device, val_loader, net, criterion)\n",
        "  val_loss_log.append(val_loss)# MSE\n",
        "  print(\"epoch : {}, MSE loss : {}, RMSE loss : {}\".format(epoch, loss.item(), torch.sqrt(loss).item()))\n",
        "  # print(\"*************validation******************\")\n",
        "  print(\"val_loss : {}, rmse : {}\\n\".format(val_loss, math.sqrt(val_loss)))\n",
        "  \n",
        "  # save low train loss model\n",
        "  if loss < best_train_loss:\n",
        "    best_train_loss = loss\n",
        "    best_train_epoch = epoch\n",
        "    torch.save(net.state_dict(), os.path.join(model_path, \"best_train_loss_model.model\"))\n",
        "\n",
        "  # save low val loss model\n",
        "  if val_loss < best_val_loss:\n",
        "    best_val_loss = val_loss\n",
        "    best_val_epoch = epoch\n",
        "    torch.save(net.state_dict(), os.path.join(model_path, \"best_val_loss_model.model\"))\n",
        "    \n",
        "  # save both loss model\n",
        "  if loss < best_train_loss and val_loss < best_val_loss:\n",
        "    best_both_loss = (loss, val_loss)\n",
        "    best_both_epoch = epoch\n",
        "    torch.save(net.state_dict(), os.path.join(model_path, \"best_both_loss_model.model\"))\n",
        "\n",
        "  # save model\n",
        "  if epoch % save_each == 0 or epoch == max_epoch - 1:\n",
        "    torch.save(net.state_dict(), os.path.join(model_path, '{}_epoch.model'.format(epoch)))"
      ]
    },
    {
      "cell_type": "markdown",
      "metadata": {},
      "source": []
    },
    {
      "cell_type": "code",
      "execution_count": null,
      "metadata": {},
      "outputs": [],
      "source": [
        "train_loss_np = np.array(train_loss_log)\n",
        "val_loss_np = np.array(val_loss_log)"
      ]
    },
    {
      "cell_type": "code",
      "execution_count": null,
      "metadata": {},
      "outputs": [
        {
          "data": {
            "image/png": "[encoded data removed]",
            "text/plain": [
              "<Figure size 700x400 with 1 Axes>"
            ]
          },
          "metadata": {},
          "output_type": "display_data"
        }
      ],
      "source": [
        "import matplotlib.pyplot as plt\n",
        "\n",
        "fig, ax = plt.subplots(figsize=(7,4))\n",
        "ax.plot(train_loss_np, label=\"train\")\n",
        "ax.plot(val_loss_np, label=\"validation\")\n",
        "plt.title(\"MSE Loss\")\n",
        "plt.legend()\n",
        "plt.show()"
      ]
    },
    {
      "cell_type": "code",
      "execution_count": null,
      "metadata": {},
      "outputs": [
        {
          "data": {
            "text/plain": [
              "(98, 88)"
            ]
          },
          "execution_count": 252,
          "metadata": {},
          "output_type": "execute_result"
        }
      ],
      "source": [
        "best_train_epoch, best_val_epoch"
      ]
    },
    {
      "cell_type": "code",
      "execution_count": null,
      "metadata": {},
      "outputs": [],
      "source": [
        "min_plot = best_val_epoch-10 if best_val_epoch >= 10 else 0\n",
        "max_plot = best_val_epoch+10"
      ]
    },
    {
      "cell_type": "code",
      "execution_count": null,
      "metadata": {},
      "outputs": [
        {
          "data": {
            "image/png": "[encoded data removed]",
            "text/plain": [
              "<Figure size 700x400 with 1 Axes>"
            ]
          },
          "metadata": {},
          "output_type": "display_data"
        }
      ],
      "source": [
        "import matplotlib.pyplot as plt\n",
        "\n",
        "fig, ax = plt.subplots(figsize=(7,4))\n",
        "ax.plot(train_loss_np[min_plot:max_plot], label=\"train\")\n",
        "ax.plot(val_loss_np[min_plot:max_plot], label = \"validation\")\n",
        "plt.title(\"MSE Loss\")\n",
        "plt.grid(which='both')\n",
        "plt.legend()\n",
        "plt.show()"
      ]
    },
    {
      "cell_type": "markdown",
      "metadata": {},
      "source": [
        "### Testing"
      ]
    },
    {
      "cell_type": "code",
      "execution_count": null,
      "metadata": {},
      "outputs": [],
      "source": [
        "def make_dataloader(data, input_step, predict_step, batch_size=1):\n",
        "    dataset = Dataset(data, input_step, predict_step)\n",
        "    dataloader = torch.utils.data.DataLoader(dataset, batch_size=batch_size, shuffle=False)\n",
        "    return dataset, dataloader"
      ]
    },
    {
      "cell_type": "code",
      "execution_count": null,
      "metadata": {},
      "outputs": [],
      "source": [
        "torch.set_printoptions(precision=5, sci_mode=False)\n",
        "np.set_printoptions(precision=5, suppress=True)\n",
        "\n",
        "device = torch.device(\"cuda\" if torch.cuda.is_available() else \"cpu\")"
      ]
    },
    {
      "cell_type": "code",
      "execution_count": null,
      "metadata": {},
      "outputs": [],
      "source": [
        "test_set, test_loader = make_dataloader(test, input_step, predict_step, batch_size=600)\n",
        "all_data = test_set.data[:,0]"
      ]
    },
    {
      "cell_type": "code",
      "execution_count": null,
      "metadata": {},
      "outputs": [
        {
          "data": {
            "text/plain": [
              "(120, 2)"
            ]
          },
          "execution_count": 258,
          "metadata": {},
          "output_type": "execute_result"
        }
      ],
      "source": [
        "test_set.data.shape"
      ]
    },
    {
      "cell_type": "code",
      "execution_count": null,
      "metadata": {},
      "outputs": [
        {
          "data": {
            "text/plain": [
              "240"
            ]
          },
          "execution_count": 259,
          "metadata": {},
          "output_type": "execute_result"
        }
      ],
      "source": [
        "test.size"
      ]
    },
    {
      "cell_type": "code",
      "execution_count": null,
      "metadata": {},
      "outputs": [
        {
          "name": "stdout",
          "output_type": "stream",
          "text": [
            "88\n"
          ]
        }
      ],
      "source": [
        "epoch_num = best_val_epoch\n",
        "print(epoch_num)\n",
        "par_path = os.path.join(model_path, \"best_val_loss_model.model\")"
      ]
    },
    {
      "cell_type": "code",
      "execution_count": null,
      "metadata": {},
      "outputs": [],
      "source": [
        "net = Transformer(device, d_model, in_dim, N_enc, N_dec, h_enc, h_dec, ff_hidnum, hid_pre, hid_post, dropout_pre, dropout_post, dropout_model, norm_first)\n",
        "    \n",
        "# load parameter\n",
        "if device == torch.device(\"cpu\"):\n",
        "  net.load_state_dict(torch.load(par_path, map_location=torch.device(\"cpu\")))\n",
        "else:\n",
        "  net.load_state_dict(torch.load(par_path,map_location=torch.device(device)))"
      ]
    },
    {
      "cell_type": "code",
      "execution_count": null,
      "metadata": {},
      "outputs": [],
      "source": [
        "net.eval()\n",
        "\n",
        "pred_list = np.zeros((1, predict_step))\n",
        "for iter, (x, y, tgt) in enumerate(test_loader):\n",
        "    tgt = tgt[:,:,0]\n",
        "\n",
        "    out = net.generate(x, tgt.shape[1], y[:,[0],:],multi)\n",
        "    out = out.to('cpu').detach().numpy().copy()\n",
        "\n",
        "    pred_list = np.concatenate([pred_list, out], axis=0)\n",
        "\n",
        "pred_list = pred_list[1:]\n",
        "D = []\n",
        "for i in range(predict_step):\n",
        "    tmp = np.concatenate([all_data[:(input_step+i)], pred_list[:,i], all_data[(all_data.shape[0]-(predict_step - (i + 1))):]])\n",
        "    D.append(tmp)\n",
        "\n",
        "for step_num, tmp_data in enumerate(D):\n",
        "    n = step_num + 1\n",
        "\n",
        "    np.save(os.path.join(test_result_path, \"pred{}_epoch{}\".format(n, epoch_num)), pred_list[:,[step_num]])\n",
        "    np.save(os.path.join(test_result_path, \"tgt{}_epoch{}\".format(n, epoch_num)), tgt[:,[step_num]])"
      ]
    },
    {
      "cell_type": "code",
      "execution_count": null,
      "metadata": {},
      "outputs": [
        {
          "data": {
            "image/png": "[encoded data removed]",
            "text/plain": [
              "<Figure size 1000x500 with 1 Axes>"
            ]
          },
          "metadata": {},
          "output_type": "display_data"
        }
      ],
      "source": [
        "all_data_denorm = np.round(scaler.inverse_transform(all_data.reshape(all_data.size,1)))\n",
        "\n",
        "fig, (ax1) = plt.subplots(1, 1,figsize=(10,5), sharex=True, sharey=True)\n",
        "fig.suptitle(f'Prediction plot epoch {epoch_num}')\n",
        "for i,C in enumerate(D):\n",
        "  d_denorm = np.round(scaler.inverse_transform(C.reshape(C.size,1)))\n",
        "  ax1.plot(d_denorm, label=f'predict {i+1}')\n",
        "ax1.axvline(input_step-1, ls='dashed', c='r')\n",
        "ax1.plot(all_data_denorm, label='true')\n",
        "ax1.legend()\n",
        "\n",
        "plt.show()"
      ]
    },
    {
      "cell_type": "code",
      "execution_count": null,
      "metadata": {},
      "outputs": [],
      "source": [
        "from sklearn.metrics import mean_squared_error, mean_absolute_error, mean_absolute_percentage_error"
      ]
    },
    {
      "cell_type": "code",
      "execution_count": null,
      "metadata": {},
      "outputs": [
        {
          "name": "stdout",
          "output_type": "stream",
          "text": [
            "Error Pred 1\n",
            "MAPE\t : 29.34568\n",
            "MAE\t : 13.26724\n",
            "MSE\t : 189.68103\n",
            "RMSE\t : 13.77247\n",
            "\n",
            "Rata-rata MAPE  29.34568\n"
          ]
        }
      ],
      "source": [
        "MAPE = []\n",
        "for ind, d in enumerate(D):\n",
        "    d_denorm = np.round(scaler.inverse_transform(d.reshape(d.size,1)))\n",
        "    print(f\"Error Pred {ind+1}\")\n",
        "    print(f\"MAPE\\t : {np.round(mean_absolute_percentage_error(all_data_denorm[input_step+ind:], d_denorm[input_step+ind:])*100,5)}\")\n",
        "    print(f\"MAE\\t : {np.round(mean_absolute_error(all_data_denorm[input_step+ind:], d_denorm[input_step+ind:]),5)}\")\n",
        "    print(f\"MSE\\t : {np.round(mean_squared_error(all_data_denorm[input_step+ind:], d_denorm[input_step+ind:]),5)}\")\n",
        "    print(f\"RMSE\\t : {np.round(np.sqrt(mean_squared_error(all_data_denorm[input_step+ind:], d_denorm[input_step+ind:])),5)}\\n\")\n",
        "    MAPE.append(np.round(mean_absolute_percentage_error(all_data_denorm[input_step+ind:], d_denorm[input_step+ind:])*100,5))\n",
        "print(\"Rata-rata MAPE \",np.round(np.mean(MAPE),5))"
      ]
    },
    {
      "cell_type": "code",
      "execution_count": null,
      "metadata": {},
      "outputs": [
        {
          "ename": "TimeoutError",
          "evalue": "Stopped",
          "output_type": "error",
          "traceback": [
            "\u001b[1;31m---------------------------------------------------------------------------\u001b[0m",
            "\u001b[1;31mTimeoutError\u001b[0m                              Traceback (most recent call last)",
            "\u001b[1;32mc:\\Users\\arthu\\Documents\\EDUCATION\\Kuliah\\SEM 7\\Code\\Deep_Transformer_clr.ipynb Cell 79\u001b[0m line \u001b[0;36m1\n\u001b[1;32m----> <a href='vscode-notebook-cell:/c%3A/Users/arthu/Documents/EDUCATION/Kuliah/SEM%207/Code/Deep_Transformer_clr.ipynb#Y261sZmlsZQ%3D%3D?line=0'>1</a>\u001b[0m \u001b[39mraise\u001b[39;00m \u001b[39mTimeoutError\u001b[39;00m(\u001b[39m\"\u001b[39m\u001b[39mStopped\u001b[39m\u001b[39m\"\u001b[39m)\n",
            "\u001b[1;31mTimeoutError\u001b[0m: Stopped"
          ]
        }
      ],
      "source": [
        "raise TimeoutError(\"Stopped\")"
      ]
    },
    {
      "cell_type": "markdown",
      "metadata": {
        "id": "1Biv2HNiffBI"
      },
      "source": [
        "## Learning Rate Range Test"
      ]
    },
    {
      "cell_type": "code",
      "execution_count": null,
      "metadata": {
        "id": "pZTlPVllffBI"
      },
      "outputs": [],
      "source": [
        "lrrt_model = Transformer(device, d_model, in_dim, N_enc, N_dec, h_enc, h_dec, ff_hidnum, hid_pre, hid_post, dropout_pre, dropout_post, dropout_model, norm_first)\n",
        "lrrt_model=lrrt_model.to(device)\n",
        "state_before_train_lrrt=lrrt_model.state_dict().copy()\n",
        "fix_seed(30)\n"
      ]
    },
    {
      "cell_type": "code",
      "execution_count": null,
      "metadata": {
        "id": "fIbik_LkffBI",
        "outputId": "89661aad-b643-41db-e39e-1abad79972c3"
      },
      "outputs": [],
      "source": [
        "def find_lr(model, train_loader, criterion, optimizer, init_lr=1e-6, final_lr=1e-1, num_epochs=100):\n",
        "    device = next(model.parameters()).device\n",
        "    lrs = np.logspace(np.log10(init_lr), np.log10(final_lr), num=num_epochs)\n",
        "    losses = []\n",
        "    val_losses = []\n",
        "    for epoch in range(num_epochs):\n",
        "        model.train()\n",
        "        current_lr = lrs[epoch]\n",
        "        for param_group in optimizer.param_groups:\n",
        "            param_group['lr'] = current_lr\n",
        "            print(param_group['lr'])\n",
        "\n",
        "        for iter, (x, y, tgt) in enumerate(train_loader):\n",
        "            x, y, tgt = x.to(device), y.to(device), tgt.to(device)\n",
        "            tgt = tgt[:,:,0]\n",
        "\n",
        "            out = model(x, y)\n",
        "            loss = criterion(out, tgt)\n",
        "            out_npy = out.to('cpu').detach().numpy().copy()\n",
        "            tgt_npy = tgt.to('cpu').detach().numpy().copy()\n",
        "\n",
        "            optimizer.zero_grad()\n",
        "            loss.backward()\n",
        "            optimizer.step()\n",
        "        val_loss = check_data(device, val_loader, model, criterion)\n",
        "        val_losses.append(val_loss)# MSE\n",
        "        losses.append(loss.item())\n",
        "        print(\"epoch {} losses {}\".format(epoch,loss.item()))\n",
        "\n",
        "    return lrs, losses,val_losses"
      ]
    },
    {
      "cell_type": "code",
      "execution_count": null,
      "metadata": {
        "id": "ntGjDrQCffBJ",
        "outputId": "30a4bca1-b2c9-44a4-dc69-b4499e989260"
      },
      "outputs": [
        {
          "name": "stdout",
          "output_type": "stream",
          "text": [
            "1e-06\n",
            "epoch 0 losses 0.22159583866596222\n",
            "1.1233240329780266e-06\n",
            "epoch 1 losses 0.14677786827087402\n",
            "1.261856883066021e-06\n"
          ]
        },
        {
          "name": "stdout",
          "output_type": "stream",
          "text": [
            "epoch 2 losses 0.2982851266860962\n",
            "1.4174741629268049e-06\n",
            "epoch 3 losses 0.21178607642650604\n",
            "1.592282793341094e-06\n",
            "epoch 4 losses 0.2230142205953598\n",
            "1.788649529057435e-06\n",
            "epoch 5 losses 0.24919657409191132\n",
            "2.0092330025650458e-06\n",
            "epoch 6 losses 0.21626441180706024\n",
            "2.2570197196339214e-06\n",
            "epoch 7 losses 0.2301938831806183\n",
            "2.5353644939701112e-06\n",
            "epoch 8 losses 0.2350798100233078\n",
            "2.848035868435799e-06\n",
            "epoch 9 losses 0.2117980569601059\n",
            "3.1992671377973847e-06\n",
            "epoch 10 losses 0.1731012463569641\n",
            "3.5938136638046257e-06\n",
            "epoch 11 losses 0.25719091296195984\n",
            "4.037017258596558e-06\n",
            "epoch 12 losses 0.17915721237659454\n",
            "4.534878508128582e-06\n",
            "epoch 13 losses 0.23043103516101837\n",
            "5.0941380148163755e-06\n",
            "epoch 14 losses 0.247165709733963\n",
            "5.72236765935022e-06\n",
            "epoch 15 losses 0.1723618358373642\n",
            "6.4280731172843194e-06\n",
            "epoch 16 losses 0.18805168569087982\n",
            "7.220809018385457e-06\n",
            "epoch 17 losses 0.18487516045570374\n",
            "8.111308307896873e-06\n",
            "epoch 18 losses 0.2210225611925125\n",
            "9.111627561154887e-06\n",
            "epoch 19 losses 0.19141025841236115\n",
            "1.023531021899027e-05\n",
            "epoch 20 losses 0.19105063378810883\n",
            "1.1497569953977357e-05\n",
            "epoch 21 losses 0.1408151537179947\n",
            "1.2915496650148827e-05\n",
            "epoch 22 losses 0.1682891696691513\n",
            "1.4508287784959402e-05\n",
            "epoch 23 losses 0.21100392937660217\n",
            "1.6297508346206434e-05\n",
            "epoch 24 losses 0.16134075820446014\n",
            "1.8307382802953696e-05\n",
            "epoch 25 losses 0.19511067867279053\n",
            "2.0565123083486515e-05\n",
            "epoch 26 losses 0.18216989934444427\n",
            "2.310129700083158e-05\n",
            "epoch 27 losses 0.22319510579109192\n",
            "2.5950242113997373e-05\n",
            "epoch 28 losses 0.16817769408226013\n",
            "2.9150530628251757e-05\n",
            "epoch 29 losses 0.17695732414722443\n",
            "3.274549162877732e-05\n",
            "epoch 30 losses 0.19698017835617065\n",
            "3.678379771828634e-05\n",
            "epoch 31 losses 0.21956519782543182\n",
            "4.1320124001153344e-05\n",
            "epoch 32 losses 0.1760426014661789\n",
            "4.641588833612782e-05\n",
            "epoch 33 losses 0.16514626145362854\n",
            "5.2140082879996844e-05\n",
            "epoch 34 losses 0.20607733726501465\n",
            "5.8570208180566735e-05\n",
            "epoch 35 losses 0.16783513128757477\n",
            "6.579332246575683e-05\n",
            "epoch 36 losses 0.1342926025390625\n",
            "7.390722033525775e-05\n",
            "epoch 37 losses 0.11403044313192368\n",
            "8.302175681319735e-05\n",
            "epoch 38 losses 0.1260664314031601\n",
            "9.326033468832199e-05\n",
            "epoch 39 losses 0.16697072982788086\n",
            "0.00010476157527896651\n",
            "epoch 40 losses 0.21738485991954803\n",
            "0.0001176811952434998\n",
            "epoch 41 losses 0.1791577935218811\n",
            "0.00013219411484660288\n",
            "epoch 42 losses 0.10722420364618301\n",
            "0.0001484968262254465\n",
            "epoch 43 losses 0.1259600669145584\n",
            "0.0001668100537200059\n",
            "epoch 44 losses 0.17273037135601044\n",
            "0.0001873817422860383\n",
            "epoch 45 losses 0.1605921983718872\n",
            "0.00021049041445120198\n",
            "epoch 46 losses 0.10915566980838776\n",
            "0.00023644894126454073\n",
            "epoch 47 losses 0.17743422091007233\n",
            "0.00026560877829466864\n",
            "epoch 48 losses 0.16425739228725433\n",
            "0.00029836472402833405\n",
            "epoch 49 losses 0.1496061086654663\n",
            "0.0003351602650938841\n",
            "epoch 50 losses 0.13292263448238373\n",
            "0.00037649358067924675\n",
            "epoch 51 losses 0.10986455529928207\n",
            "0.0004229242874389499\n",
            "epoch 52 losses 0.12450920790433884\n",
            "0.00047508101621027984\n",
            "epoch 53 losses 0.06963837146759033\n",
            "0.0005336699231206307\n",
            "epoch 54 losses 0.14743995666503906\n",
            "0.0005994842503189409\n",
            "epoch 55 losses 0.09688147157430649\n",
            "0.0006734150657750821\n",
            "epoch 56 losses 0.13596858084201813\n",
            "0.000756463327554629\n",
            "epoch 57 losses 0.09686948359012604\n",
            "0.0008497534359086438\n",
            "epoch 58 losses 0.09456781297922134\n",
            "0.0009545484566618337\n",
            "epoch 59 losses 0.052644919604063034\n",
            "0.0010722672220103231\n",
            "epoch 60 losses 0.07157596200704575\n",
            "0.0012045035402587824\n",
            "epoch 61 losses 0.05307001993060112\n",
            "0.0013530477745798061\n",
            "epoch 62 losses 0.037608660757541656\n",
            "0.0015199110829529332\n",
            "epoch 63 losses 0.03621559217572212\n",
            "0.0017073526474706904\n",
            "epoch 64 losses 0.024282041937112808\n",
            "0.0019179102616724887\n",
            "epoch 65 losses 0.010331572964787483\n",
            "0.0021544346900318843\n",
            "epoch 66 losses 0.007977219298481941\n",
            "0.002420128264794381\n",
            "epoch 67 losses 0.0045630186796188354\n",
            "0.00271858824273294\n",
            "epoch 68 losses 0.005214901175349951\n",
            "0.0030538555088334154\n",
            "epoch 69 losses 0.004828927107155323\n",
            "0.003430469286314919\n",
            "epoch 70 losses 0.002070091664791107\n",
            "0.0038535285937105275\n",
            "epoch 71 losses 0.00310246623121202\n",
            "0.004328761281083057\n",
            "epoch 72 losses 0.0023887776769697666\n",
            "0.004862601580065354\n",
            "epoch 73 losses 0.001990346936509013\n",
            "0.0054622772176843425\n",
            "epoch 74 losses 0.0014793373411521316\n",
            "0.006135907273413169\n",
            "epoch 75 losses 0.0006391694187186658\n",
            "0.006892612104349695\n",
            "epoch 76 losses 0.0006686914712190628\n",
            "0.007742636826811269\n",
            "epoch 77 losses 0.0007686844910494983\n",
            "0.008697490026177835\n",
            "epoch 78 losses 0.00038108552689664066\n",
            "0.009770099572992247\n",
            "epoch 79 losses 0.0005381054943427444\n",
            "0.010974987654930568\n",
            "epoch 80 losses 0.0004987921565771103\n",
            "0.012328467394420659\n",
            "epoch 81 losses 0.0005456052022054791\n",
            "0.013848863713938717\n",
            "epoch 82 losses 0.00038907010457478464\n",
            "0.015556761439304723\n",
            "epoch 83 losses 0.0009377931128256023\n",
            "0.017475284000076828\n",
            "epoch 84 losses 0.000974961556494236\n",
            "0.019630406500402726\n",
            "epoch 85 losses 0.0006028991192579269\n",
            "0.022051307399030457\n",
            "epoch 86 losses 0.0011424068361520767\n",
            "0.02477076355991709\n",
            "epoch 87 losses 0.0018787308363243937\n",
            "0.02782559402207126\n",
            "epoch 88 losses 0.0038706641644239426\n",
            "0.031257158496882355\n",
            "epoch 89 losses 0.005302709992974997\n",
            "0.03511191734215127\n",
            "epoch 90 losses 0.0029372279532253742\n",
            "0.03944206059437656\n",
            "epoch 91 losses 0.0027333186008036137\n",
            "0.044306214575838776\n",
            "epoch 92 losses 0.004294601734727621\n",
            "0.049770235643321135\n",
            "epoch 93 losses 0.0013177819782868028\n",
            "0.05590810182512223\n",
            "epoch 94 losses 0.0020289986860007048\n",
            "0.06280291441834246\n",
            "epoch 95 losses 0.0010344304610043764\n",
            "0.07054802310718646\n",
            "epoch 96 losses 0.0010980510851368308\n",
            "0.0792482898353917\n",
            "epoch 97 losses 0.001331139006651938\n",
            "0.08902150854450393\n",
            "epoch 98 losses 0.0018877520924434066\n",
            "0.1\n",
            "epoch 99 losses 0.002133068162947893\n"
          ]
        }
      ],
      "source": [
        "optimizer = optim.SGD(lrrt_model.parameters(), lr=1e-3)\n",
        "criterion = nn.MSELoss()\n",
        "learning_rates, losses,val_losses = find_lr(lrrt_model, train_loader, criterion, optimizer)\n",
        "fix_seed(30)"
      ]
    },
    {
      "cell_type": "code",
      "execution_count": null,
      "metadata": {},
      "outputs": [],
      "source": [
        "train_loss_np = np.array(losses)\n",
        "val_loss_np = np.array(val_losses)"
      ]
    },
    {
      "cell_type": "code",
      "execution_count": null,
      "metadata": {
        "id": "Yzdg45n4ffBJ",
        "outputId": "508deb69-08e5-4d4b-a386-91793106ec01"
      },
      "outputs": [
        {
          "name": "stdout",
          "output_type": "stream",
          "text": [
            "Learning rate terbaik: 0.008697490026177835, pada epoch 78 dengan loss 0.00038108552689664066\n"
          ]
        },
        {
          "data": {
            "image/png": "[encoded data removed]",
            "text/plain": [
              "<Figure size 700x400 with 1 Axes>"
            ]
          },
          "metadata": {},
          "output_type": "display_data"
        }
      ],
      "source": [
        "# Simpan nilai learning rate dengan loss terkecil menggunakan MAE\n",
        "fig, ax = plt.subplots(figsize=(7,4))\n",
        "ax.plot(train_loss_np, label=\"train\")\n",
        "ax.plot(val_loss_np, label=\"validation\")\n",
        "best_lr = learning_rates[np.argmin(losses)]\n",
        "best_epoch = np.argmin(losses)\n",
        "best_loss = np.min(losses)\n",
        "print(f\"Learning rate terbaik: {best_lr}, pada epoch {best_epoch} dengan loss {best_loss}\")"
      ]
    },
    {
      "cell_type": "markdown",
      "metadata": {},
      "source": [
        "Stopper"
      ]
    },
    {
      "cell_type": "code",
      "execution_count": null,
      "metadata": {},
      "outputs": [],
      "source": [
        "# stopper\n",
        "# raise NameError()"
      ]
    },
    {
      "cell_type": "markdown",
      "metadata": {
        "id": "RvM6co9ygZtI"
      },
      "source": [
        "## CLR"
      ]
    },
    {
      "cell_type": "code",
      "execution_count": null,
      "metadata": {},
      "outputs": [],
      "source": [
        "# best_lr=0.0019179102616724887"
      ]
    },
    {
      "cell_type": "code",
      "execution_count": null,
      "metadata": {
        "id": "fo-k_e-PffBK"
      },
      "outputs": [],
      "source": [
        "clr_model = Transformer(device, d_model, in_dim, N_enc, N_dec, h_enc, h_dec, ff_hidnum, hid_pre, hid_post, dropout_pre, dropout_post, dropout_model, norm_first)\n",
        "clr_model=clr_model.to(device)\n",
        "optimizer = optim.SGD(clr_model.parameters(), lr=1e-3)\n",
        "criterion = nn.MSELoss()\n",
        "fix_seed(30)\n",
        "# raise KeyError()"
      ]
    },
    {
      "cell_type": "markdown",
      "metadata": {},
      "source": [
        "### Cosine CLR"
      ]
    },
    {
      "cell_type": "code",
      "execution_count": null,
      "metadata": {},
      "outputs": [],
      "source": [
        "from torch.optim.lr_scheduler import _LRScheduler\n",
        "class CosineCyclicLR(_LRScheduler):\n",
        "    def __init__(self, optimizer, base_lr, max_lr, step_size, last_epoch=-1):\n",
        "        self.base_lr = base_lr\n",
        "        self.max_lr = max_lr\n",
        "        self.step_size = step_size\n",
        "        super(CosineCyclicLR, self).__init__(optimizer, last_epoch)\n",
        "\n",
        "    def get_lr(self):\n",
        "        cycle = math.floor(1 + self.last_epoch / (2 * self.step_size))\n",
        "        x = abs(self.last_epoch / self.step_size - 2 * cycle + 1)\n",
        "        lr = self.base_lr + (self.max_lr - self.base_lr) * (1 + math.cos(math.pi * x)) / 2\n",
        "        return [lr for _ in self.base_lrs]"
      ]
    },
    {
      "cell_type": "code",
      "execution_count": null,
      "metadata": {
        "id": "frJIp1jtffBK",
        "outputId": "f61df890-608a-4d1e-c9d5-941034486ffc"
      },
      "outputs": [
        {
          "name": "stdout",
          "output_type": "stream",
          "text": [
            "epoch : 0, val_loss : 0.05947992434868446, current lr 0.008697490026177835 ,rmse : 0.24388506380810707\n",
            "\n",
            "epoch : 1, val_loss : 0.011412571399257733, current lr 0.008697490026177835 ,rmse : 0.10682963727008406\n",
            "\n",
            "epoch : 2, val_loss : 0.0018154809143967354, current lr 0.008697490026177835 ,rmse : 0.0426084605964207\n",
            "\n",
            "epoch : 3, val_loss : 0.0010301103869166512, current lr 0.008697490026177835 ,rmse : 0.03209533279024617\n",
            "\n",
            "epoch : 4, val_loss : 0.0007763160840393259, current lr 0.008697490026177835 ,rmse : 0.027862449354630076\n",
            "\n",
            "epoch : 5, val_loss : 0.0006438103244783214, current lr 0.008697490026177835 ,rmse : 0.025373417674375703\n",
            "\n",
            "epoch : 6, val_loss : 0.0006286867786771976, current lr 0.008697490026177835 ,rmse : 0.025073627154386692\n",
            "\n",
            "epoch : 7, val_loss : 0.0005756007337297958, current lr 0.008697490026177835 ,rmse : 0.0239916805107478\n",
            "\n"
          ]
        },
        {
          "ename": "KeyboardInterrupt",
          "evalue": "",
          "output_type": "error",
          "traceback": [
            "\u001b[1;31m---------------------------------------------------------------------------\u001b[0m",
            "\u001b[1;31mKeyboardInterrupt\u001b[0m                         Traceback (most recent call last)",
            "\u001b[1;32mc:\\Users\\arthu\\Documents\\EDUCATION\\Kuliah\\SEM 7\\Code\\Deep_Transformer_clr.ipynb Cell 80\u001b[0m line \u001b[0;36m8\n\u001b[0;32m     <a href='vscode-notebook-cell:/c%3A/Users/arthu/Documents/EDUCATION/Kuliah/SEM%207/Code/Deep_Transformer_clr.ipynb#Y124sZmlsZQ%3D%3D?line=77'>78</a>\u001b[0m     \u001b[39mreturn\u001b[39;00m train_losses,val_losses\n\u001b[0;32m     <a href='vscode-notebook-cell:/c%3A/Users/arthu/Documents/EDUCATION/Kuliah/SEM%207/Code/Deep_Transformer_clr.ipynb#Y124sZmlsZQ%3D%3D?line=78'>79</a>\u001b[0m \u001b[39m# Contoh penggunaan:\u001b[39;00m\n\u001b[1;32m---> <a href='vscode-notebook-cell:/c%3A/Users/arthu/Documents/EDUCATION/Kuliah/SEM%207/Code/Deep_Transformer_clr.ipynb#Y124sZmlsZQ%3D%3D?line=79'>80</a>\u001b[0m train_loss_clr,val_loss_clr\u001b[39m=\u001b[39mtrain_with_clr(clr_model, train_loader, criterion, optimizer, num_epochs\u001b[39m=\u001b[39;49m\u001b[39m100\u001b[39;49m,base_lr\u001b[39m=\u001b[39;49mbest_lr , max_lr_multiplier\u001b[39m=\u001b[39;49m\u001b[39m8\u001b[39;49m, cycle_size\u001b[39m=\u001b[39;49m\u001b[39m25\u001b[39;49m)\n",
            "\u001b[1;32mc:\\Users\\arthu\\Documents\\EDUCATION\\Kuliah\\SEM 7\\Code\\Deep_Transformer_clr.ipynb Cell 80\u001b[0m line \u001b[0;36m3\n\u001b[0;32m     <a href='vscode-notebook-cell:/c%3A/Users/arthu/Documents/EDUCATION/Kuliah/SEM%207/Code/Deep_Transformer_clr.ipynb#Y124sZmlsZQ%3D%3D?line=29'>30</a>\u001b[0m tgt \u001b[39m=\u001b[39m tgt[:,:,\u001b[39m0\u001b[39m]\n\u001b[0;32m     <a href='vscode-notebook-cell:/c%3A/Users/arthu/Documents/EDUCATION/Kuliah/SEM%207/Code/Deep_Transformer_clr.ipynb#Y124sZmlsZQ%3D%3D?line=30'>31</a>\u001b[0m model\u001b[39m.\u001b[39mtrain()\n\u001b[1;32m---> <a href='vscode-notebook-cell:/c%3A/Users/arthu/Documents/EDUCATION/Kuliah/SEM%207/Code/Deep_Transformer_clr.ipynb#Y124sZmlsZQ%3D%3D?line=32'>33</a>\u001b[0m out \u001b[39m=\u001b[39m model(x, y)\n\u001b[0;32m     <a href='vscode-notebook-cell:/c%3A/Users/arthu/Documents/EDUCATION/Kuliah/SEM%207/Code/Deep_Transformer_clr.ipynb#Y124sZmlsZQ%3D%3D?line=33'>34</a>\u001b[0m loss \u001b[39m=\u001b[39m criterion(out, tgt)\n\u001b[0;32m     <a href='vscode-notebook-cell:/c%3A/Users/arthu/Documents/EDUCATION/Kuliah/SEM%207/Code/Deep_Transformer_clr.ipynb#Y124sZmlsZQ%3D%3D?line=34'>35</a>\u001b[0m out_npy \u001b[39m=\u001b[39m out\u001b[39m.\u001b[39mto(\u001b[39m'\u001b[39m\u001b[39mcpu\u001b[39m\u001b[39m'\u001b[39m)\u001b[39m.\u001b[39mdetach()\u001b[39m.\u001b[39mnumpy()\u001b[39m.\u001b[39mcopy()\n",
            "File \u001b[1;32mc:\\Users\\arthu\\Documents\\EDUCATION\\Kuliah\\SEM 7\\Code\\.venv\\lib\\site-packages\\torch\\nn\\modules\\module.py:1501\u001b[0m, in \u001b[0;36mModule._call_impl\u001b[1;34m(self, *args, **kwargs)\u001b[0m\n\u001b[0;32m   1496\u001b[0m \u001b[39m# If we don't have any hooks, we want to skip the rest of the logic in\u001b[39;00m\n\u001b[0;32m   1497\u001b[0m \u001b[39m# this function, and just call forward.\u001b[39;00m\n\u001b[0;32m   1498\u001b[0m \u001b[39mif\u001b[39;00m \u001b[39mnot\u001b[39;00m (\u001b[39mself\u001b[39m\u001b[39m.\u001b[39m_backward_hooks \u001b[39mor\u001b[39;00m \u001b[39mself\u001b[39m\u001b[39m.\u001b[39m_backward_pre_hooks \u001b[39mor\u001b[39;00m \u001b[39mself\u001b[39m\u001b[39m.\u001b[39m_forward_hooks \u001b[39mor\u001b[39;00m \u001b[39mself\u001b[39m\u001b[39m.\u001b[39m_forward_pre_hooks\n\u001b[0;32m   1499\u001b[0m         \u001b[39mor\u001b[39;00m _global_backward_pre_hooks \u001b[39mor\u001b[39;00m _global_backward_hooks\n\u001b[0;32m   1500\u001b[0m         \u001b[39mor\u001b[39;00m _global_forward_hooks \u001b[39mor\u001b[39;00m _global_forward_pre_hooks):\n\u001b[1;32m-> 1501\u001b[0m     \u001b[39mreturn\u001b[39;00m forward_call(\u001b[39m*\u001b[39margs, \u001b[39m*\u001b[39m\u001b[39m*\u001b[39mkwargs)\n\u001b[0;32m   1502\u001b[0m \u001b[39m# Do not call functions when jit is used\u001b[39;00m\n\u001b[0;32m   1503\u001b[0m full_backward_hooks, non_full_backward_hooks \u001b[39m=\u001b[39m [], []\n",
            "\u001b[1;32mc:\\Users\\arthu\\Documents\\EDUCATION\\Kuliah\\SEM 7\\Code\\Deep_Transformer_clr.ipynb Cell 80\u001b[0m line \u001b[0;36m1\n\u001b[0;32m     <a href='vscode-notebook-cell:/c%3A/Users/arthu/Documents/EDUCATION/Kuliah/SEM%207/Code/Deep_Transformer_clr.ipynb#Y124sZmlsZQ%3D%3D?line=15'>16</a>\u001b[0m y_emb_pos \u001b[39m=\u001b[39m \u001b[39mself\u001b[39m\u001b[39m.\u001b[39mpos(y_emb)\n\u001b[0;32m     <a href='vscode-notebook-cell:/c%3A/Users/arthu/Documents/EDUCATION/Kuliah/SEM%207/Code/Deep_Transformer_clr.ipynb#Y124sZmlsZQ%3D%3D?line=16'>17</a>\u001b[0m memory \u001b[39m=\u001b[39m \u001b[39mself\u001b[39m\u001b[39m.\u001b[39menc(x_emb_pos)\n\u001b[1;32m---> <a href='vscode-notebook-cell:/c%3A/Users/arthu/Documents/EDUCATION/Kuliah/SEM%207/Code/Deep_Transformer_clr.ipynb#Y124sZmlsZQ%3D%3D?line=17'>18</a>\u001b[0m out \u001b[39m=\u001b[39m \u001b[39mself\u001b[39;49m\u001b[39m.\u001b[39;49mdec(y_emb_pos, memory)\n\u001b[0;32m     <a href='vscode-notebook-cell:/c%3A/Users/arthu/Documents/EDUCATION/Kuliah/SEM%207/Code/Deep_Transformer_clr.ipynb#Y124sZmlsZQ%3D%3D?line=18'>19</a>\u001b[0m out \u001b[39m=\u001b[39m \u001b[39mself\u001b[39m\u001b[39m.\u001b[39mpost(out)\n\u001b[0;32m     <a href='vscode-notebook-cell:/c%3A/Users/arthu/Documents/EDUCATION/Kuliah/SEM%207/Code/Deep_Transformer_clr.ipynb#Y124sZmlsZQ%3D%3D?line=19'>20</a>\u001b[0m out \u001b[39m=\u001b[39m out\u001b[39m.\u001b[39msqueeze(\u001b[39m-\u001b[39m\u001b[39m1\u001b[39m)\n",
            "File \u001b[1;32mc:\\Users\\arthu\\Documents\\EDUCATION\\Kuliah\\SEM 7\\Code\\.venv\\lib\\site-packages\\torch\\nn\\modules\\module.py:1501\u001b[0m, in \u001b[0;36mModule._call_impl\u001b[1;34m(self, *args, **kwargs)\u001b[0m\n\u001b[0;32m   1496\u001b[0m \u001b[39m# If we don't have any hooks, we want to skip the rest of the logic in\u001b[39;00m\n\u001b[0;32m   1497\u001b[0m \u001b[39m# this function, and just call forward.\u001b[39;00m\n\u001b[0;32m   1498\u001b[0m \u001b[39mif\u001b[39;00m \u001b[39mnot\u001b[39;00m (\u001b[39mself\u001b[39m\u001b[39m.\u001b[39m_backward_hooks \u001b[39mor\u001b[39;00m \u001b[39mself\u001b[39m\u001b[39m.\u001b[39m_backward_pre_hooks \u001b[39mor\u001b[39;00m \u001b[39mself\u001b[39m\u001b[39m.\u001b[39m_forward_hooks \u001b[39mor\u001b[39;00m \u001b[39mself\u001b[39m\u001b[39m.\u001b[39m_forward_pre_hooks\n\u001b[0;32m   1499\u001b[0m         \u001b[39mor\u001b[39;00m _global_backward_pre_hooks \u001b[39mor\u001b[39;00m _global_backward_hooks\n\u001b[0;32m   1500\u001b[0m         \u001b[39mor\u001b[39;00m _global_forward_hooks \u001b[39mor\u001b[39;00m _global_forward_pre_hooks):\n\u001b[1;32m-> 1501\u001b[0m     \u001b[39mreturn\u001b[39;00m forward_call(\u001b[39m*\u001b[39margs, \u001b[39m*\u001b[39m\u001b[39m*\u001b[39mkwargs)\n\u001b[0;32m   1502\u001b[0m \u001b[39m# Do not call functions when jit is used\u001b[39;00m\n\u001b[0;32m   1503\u001b[0m full_backward_hooks, non_full_backward_hooks \u001b[39m=\u001b[39m [], []\n",
            "\u001b[1;32mc:\\Users\\arthu\\Documents\\EDUCATION\\Kuliah\\SEM 7\\Code\\Deep_Transformer_clr.ipynb Cell 80\u001b[0m line \u001b[0;36m8\n\u001b[0;32m      <a href='vscode-notebook-cell:/c%3A/Users/arthu/Documents/EDUCATION/Kuliah/SEM%207/Code/Deep_Transformer_clr.ipynb#Y124sZmlsZQ%3D%3D?line=5'>6</a>\u001b[0m \u001b[39mdef\u001b[39;00m \u001b[39mforward\u001b[39m(\u001b[39mself\u001b[39m, x, memory):\n\u001b[0;32m      <a href='vscode-notebook-cell:/c%3A/Users/arthu/Documents/EDUCATION/Kuliah/SEM%207/Code/Deep_Transformer_clr.ipynb#Y124sZmlsZQ%3D%3D?line=6'>7</a>\u001b[0m     \u001b[39mfor\u001b[39;00m layer \u001b[39min\u001b[39;00m \u001b[39mself\u001b[39m\u001b[39m.\u001b[39mlayers:\n\u001b[1;32m----> <a href='vscode-notebook-cell:/c%3A/Users/arthu/Documents/EDUCATION/Kuliah/SEM%207/Code/Deep_Transformer_clr.ipynb#Y124sZmlsZQ%3D%3D?line=7'>8</a>\u001b[0m         x \u001b[39m=\u001b[39m layer(x, memory)\n\u001b[0;32m      <a href='vscode-notebook-cell:/c%3A/Users/arthu/Documents/EDUCATION/Kuliah/SEM%207/Code/Deep_Transformer_clr.ipynb#Y124sZmlsZQ%3D%3D?line=8'>9</a>\u001b[0m     \u001b[39mreturn\u001b[39;00m x\n",
            "File \u001b[1;32mc:\\Users\\arthu\\Documents\\EDUCATION\\Kuliah\\SEM 7\\Code\\.venv\\lib\\site-packages\\torch\\nn\\modules\\module.py:1501\u001b[0m, in \u001b[0;36mModule._call_impl\u001b[1;34m(self, *args, **kwargs)\u001b[0m\n\u001b[0;32m   1496\u001b[0m \u001b[39m# If we don't have any hooks, we want to skip the rest of the logic in\u001b[39;00m\n\u001b[0;32m   1497\u001b[0m \u001b[39m# this function, and just call forward.\u001b[39;00m\n\u001b[0;32m   1498\u001b[0m \u001b[39mif\u001b[39;00m \u001b[39mnot\u001b[39;00m (\u001b[39mself\u001b[39m\u001b[39m.\u001b[39m_backward_hooks \u001b[39mor\u001b[39;00m \u001b[39mself\u001b[39m\u001b[39m.\u001b[39m_backward_pre_hooks \u001b[39mor\u001b[39;00m \u001b[39mself\u001b[39m\u001b[39m.\u001b[39m_forward_hooks \u001b[39mor\u001b[39;00m \u001b[39mself\u001b[39m\u001b[39m.\u001b[39m_forward_pre_hooks\n\u001b[0;32m   1499\u001b[0m         \u001b[39mor\u001b[39;00m _global_backward_pre_hooks \u001b[39mor\u001b[39;00m _global_backward_hooks\n\u001b[0;32m   1500\u001b[0m         \u001b[39mor\u001b[39;00m _global_forward_hooks \u001b[39mor\u001b[39;00m _global_forward_pre_hooks):\n\u001b[1;32m-> 1501\u001b[0m     \u001b[39mreturn\u001b[39;00m forward_call(\u001b[39m*\u001b[39margs, \u001b[39m*\u001b[39m\u001b[39m*\u001b[39mkwargs)\n\u001b[0;32m   1502\u001b[0m \u001b[39m# Do not call functions when jit is used\u001b[39;00m\n\u001b[0;32m   1503\u001b[0m full_backward_hooks, non_full_backward_hooks \u001b[39m=\u001b[39m [], []\n",
            "\u001b[1;32mc:\\Users\\arthu\\Documents\\EDUCATION\\Kuliah\\SEM 7\\Code\\Deep_Transformer_clr.ipynb Cell 80\u001b[0m line \u001b[0;36m3\n\u001b[0;32m     <a href='vscode-notebook-cell:/c%3A/Users/arthu/Documents/EDUCATION/Kuliah/SEM%207/Code/Deep_Transformer_clr.ipynb#Y124sZmlsZQ%3D%3D?line=33'>34</a>\u001b[0m out \u001b[39m=\u001b[39m \u001b[39mself\u001b[39m\u001b[39m.\u001b[39mln1(out)\n\u001b[0;32m     <a href='vscode-notebook-cell:/c%3A/Users/arthu/Documents/EDUCATION/Kuliah/SEM%207/Code/Deep_Transformer_clr.ipynb#Y124sZmlsZQ%3D%3D?line=35'>36</a>\u001b[0m res \u001b[39m=\u001b[39m torch\u001b[39m.\u001b[39mclone(out)\n\u001b[1;32m---> <a href='vscode-notebook-cell:/c%3A/Users/arthu/Documents/EDUCATION/Kuliah/SEM%207/Code/Deep_Transformer_clr.ipynb#Y124sZmlsZQ%3D%3D?line=36'>37</a>\u001b[0m out \u001b[39m=\u001b[39m \u001b[39mself\u001b[39;49m\u001b[39m.\u001b[39;49mmhsa(out, memory)\n\u001b[0;32m     <a href='vscode-notebook-cell:/c%3A/Users/arthu/Documents/EDUCATION/Kuliah/SEM%207/Code/Deep_Transformer_clr.ipynb#Y124sZmlsZQ%3D%3D?line=37'>38</a>\u001b[0m out \u001b[39m=\u001b[39m F\u001b[39m.\u001b[39mdropout(out, p\u001b[39m=\u001b[39m\u001b[39mself\u001b[39m\u001b[39m.\u001b[39mdor) \u001b[39m+\u001b[39m res\n\u001b[0;32m     <a href='vscode-notebook-cell:/c%3A/Users/arthu/Documents/EDUCATION/Kuliah/SEM%207/Code/Deep_Transformer_clr.ipynb#Y124sZmlsZQ%3D%3D?line=38'>39</a>\u001b[0m out \u001b[39m=\u001b[39m \u001b[39mself\u001b[39m\u001b[39m.\u001b[39mln2(out)\n",
            "File \u001b[1;32mc:\\Users\\arthu\\Documents\\EDUCATION\\Kuliah\\SEM 7\\Code\\.venv\\lib\\site-packages\\torch\\nn\\modules\\module.py:1501\u001b[0m, in \u001b[0;36mModule._call_impl\u001b[1;34m(self, *args, **kwargs)\u001b[0m\n\u001b[0;32m   1496\u001b[0m \u001b[39m# If we don't have any hooks, we want to skip the rest of the logic in\u001b[39;00m\n\u001b[0;32m   1497\u001b[0m \u001b[39m# this function, and just call forward.\u001b[39;00m\n\u001b[0;32m   1498\u001b[0m \u001b[39mif\u001b[39;00m \u001b[39mnot\u001b[39;00m (\u001b[39mself\u001b[39m\u001b[39m.\u001b[39m_backward_hooks \u001b[39mor\u001b[39;00m \u001b[39mself\u001b[39m\u001b[39m.\u001b[39m_backward_pre_hooks \u001b[39mor\u001b[39;00m \u001b[39mself\u001b[39m\u001b[39m.\u001b[39m_forward_hooks \u001b[39mor\u001b[39;00m \u001b[39mself\u001b[39m\u001b[39m.\u001b[39m_forward_pre_hooks\n\u001b[0;32m   1499\u001b[0m         \u001b[39mor\u001b[39;00m _global_backward_pre_hooks \u001b[39mor\u001b[39;00m _global_backward_hooks\n\u001b[0;32m   1500\u001b[0m         \u001b[39mor\u001b[39;00m _global_forward_hooks \u001b[39mor\u001b[39;00m _global_forward_pre_hooks):\n\u001b[1;32m-> 1501\u001b[0m     \u001b[39mreturn\u001b[39;00m forward_call(\u001b[39m*\u001b[39margs, \u001b[39m*\u001b[39m\u001b[39m*\u001b[39mkwargs)\n\u001b[0;32m   1502\u001b[0m \u001b[39m# Do not call functions when jit is used\u001b[39;00m\n\u001b[0;32m   1503\u001b[0m full_backward_hooks, non_full_backward_hooks \u001b[39m=\u001b[39m [], []\n",
            "\u001b[1;32mc:\\Users\\arthu\\Documents\\EDUCATION\\Kuliah\\SEM 7\\Code\\Deep_Transformer_clr.ipynb Cell 80\u001b[0m line \u001b[0;36m1\n\u001b[0;32m     <a href='vscode-notebook-cell:/c%3A/Users/arthu/Documents/EDUCATION/Kuliah/SEM%207/Code/Deep_Transformer_clr.ipynb#Y124sZmlsZQ%3D%3D?line=9'>10</a>\u001b[0m \u001b[39mdef\u001b[39;00m \u001b[39mforward\u001b[39m(\u001b[39mself\u001b[39m, x, memory):\n\u001b[0;32m     <a href='vscode-notebook-cell:/c%3A/Users/arthu/Documents/EDUCATION/Kuliah/SEM%207/Code/Deep_Transformer_clr.ipynb#Y124sZmlsZQ%3D%3D?line=10'>11</a>\u001b[0m     mem \u001b[39m=\u001b[39m \u001b[39mself\u001b[39m\u001b[39m.\u001b[39mto_kv(memory)\n\u001b[1;32m---> <a href='vscode-notebook-cell:/c%3A/Users/arthu/Documents/EDUCATION/Kuliah/SEM%207/Code/Deep_Transformer_clr.ipynb#Y124sZmlsZQ%3D%3D?line=11'>12</a>\u001b[0m     x \u001b[39m=\u001b[39m \u001b[39mself\u001b[39;49m\u001b[39m.\u001b[39;49mto_q(x)\n\u001b[0;32m     <a href='vscode-notebook-cell:/c%3A/Users/arthu/Documents/EDUCATION/Kuliah/SEM%207/Code/Deep_Transformer_clr.ipynb#Y124sZmlsZQ%3D%3D?line=12'>13</a>\u001b[0m     k, v \u001b[39m=\u001b[39m \u001b[39mself\u001b[39m\u001b[39m.\u001b[39mmake_head_kv(mem)\n\u001b[0;32m     <a href='vscode-notebook-cell:/c%3A/Users/arthu/Documents/EDUCATION/Kuliah/SEM%207/Code/Deep_Transformer_clr.ipynb#Y124sZmlsZQ%3D%3D?line=13'>14</a>\u001b[0m     q \u001b[39m=\u001b[39m \u001b[39mself\u001b[39m\u001b[39m.\u001b[39mmake_head_q(x)[\u001b[39m0\u001b[39m]\n",
            "File \u001b[1;32mc:\\Users\\arthu\\Documents\\EDUCATION\\Kuliah\\SEM 7\\Code\\.venv\\lib\\site-packages\\torch\\nn\\modules\\module.py:1501\u001b[0m, in \u001b[0;36mModule._call_impl\u001b[1;34m(self, *args, **kwargs)\u001b[0m\n\u001b[0;32m   1496\u001b[0m \u001b[39m# If we don't have any hooks, we want to skip the rest of the logic in\u001b[39;00m\n\u001b[0;32m   1497\u001b[0m \u001b[39m# this function, and just call forward.\u001b[39;00m\n\u001b[0;32m   1498\u001b[0m \u001b[39mif\u001b[39;00m \u001b[39mnot\u001b[39;00m (\u001b[39mself\u001b[39m\u001b[39m.\u001b[39m_backward_hooks \u001b[39mor\u001b[39;00m \u001b[39mself\u001b[39m\u001b[39m.\u001b[39m_backward_pre_hooks \u001b[39mor\u001b[39;00m \u001b[39mself\u001b[39m\u001b[39m.\u001b[39m_forward_hooks \u001b[39mor\u001b[39;00m \u001b[39mself\u001b[39m\u001b[39m.\u001b[39m_forward_pre_hooks\n\u001b[0;32m   1499\u001b[0m         \u001b[39mor\u001b[39;00m _global_backward_pre_hooks \u001b[39mor\u001b[39;00m _global_backward_hooks\n\u001b[0;32m   1500\u001b[0m         \u001b[39mor\u001b[39;00m _global_forward_hooks \u001b[39mor\u001b[39;00m _global_forward_pre_hooks):\n\u001b[1;32m-> 1501\u001b[0m     \u001b[39mreturn\u001b[39;00m forward_call(\u001b[39m*\u001b[39margs, \u001b[39m*\u001b[39m\u001b[39m*\u001b[39mkwargs)\n\u001b[0;32m   1502\u001b[0m \u001b[39m# Do not call functions when jit is used\u001b[39;00m\n\u001b[0;32m   1503\u001b[0m full_backward_hooks, non_full_backward_hooks \u001b[39m=\u001b[39m [], []\n",
            "File \u001b[1;32mc:\\Users\\arthu\\Documents\\EDUCATION\\Kuliah\\SEM 7\\Code\\.venv\\lib\\site-packages\\torch\\nn\\modules\\linear.py:114\u001b[0m, in \u001b[0;36mLinear.forward\u001b[1;34m(self, input)\u001b[0m\n\u001b[0;32m    113\u001b[0m \u001b[39mdef\u001b[39;00m \u001b[39mforward\u001b[39m(\u001b[39mself\u001b[39m, \u001b[39minput\u001b[39m: Tensor) \u001b[39m-\u001b[39m\u001b[39m>\u001b[39m Tensor:\n\u001b[1;32m--> 114\u001b[0m     \u001b[39mreturn\u001b[39;00m F\u001b[39m.\u001b[39;49mlinear(\u001b[39minput\u001b[39;49m, \u001b[39mself\u001b[39;49m\u001b[39m.\u001b[39;49mweight, \u001b[39mself\u001b[39;49m\u001b[39m.\u001b[39;49mbias)\n",
            "\u001b[1;31mKeyboardInterrupt\u001b[0m: "
          ]
        }
      ],
      "source": [
        "import torch.optim.lr_scheduler as lr_scheduler\n",
        "best_both_loss_clr = (np.inf, np.inf)\n",
        "best_train_epoch_clr = 0\n",
        "best_val_epoch_clr = 0\n",
        "best_both_epoch_clr = 0\n",
        "best_train_loss_clr = np.inf\n",
        "best_val_loss_clr = np.inf\n",
        "\n",
        "\n",
        "def train_with_clr(model, train_loader, criterion, optimizer, num_epochs,base_lr, max_lr_multiplier, cycle_size):\n",
        "    scheduler = CosineCyclicLR(optimizer, base_lr=base_lr,max_lr=(base_lr*max_lr_multiplier), step_size=cycle_size)\n",
        "    train_losses = []\n",
        "    val_losses = []\n",
        "\n",
        "    global best_both_loss_clr\n",
        "    global best_train_epoch_clr\n",
        "    global best_val_epoch_clr\n",
        "    global best_both_epoch_clr\n",
        "    global best_train_loss_clr\n",
        "    global best_val_loss_clr\n",
        "    global max_iteration_clr\n",
        "    for epoch in range(num_epochs):\n",
        "        model.train()\n",
        "        total_train_loss = 0.0\n",
        "        tgt_log_train = np.zeros((1,predict_step))\n",
        "        pred_log_train = np.zeros((1,predict_step))\n",
        "\n",
        "        for iter, (x, y, tgt) in enumerate(train_loader):\n",
        "            x, y, tgt = x.to(device), y.to(device), tgt.to(device)\n",
        "            tgt = tgt[:,:,0]\n",
        "            model.train()\n",
        "\n",
        "            out = model(x, y)\n",
        "            loss = criterion(out, tgt)\n",
        "            out_npy = out.to('cpu').detach().numpy().copy()\n",
        "            tgt_npy = tgt.to('cpu').detach().numpy().copy()\n",
        "            pred_log_train = np.concatenate([pred_log_train, out_npy], axis=0)\n",
        "            tgt_log_train = np.concatenate([tgt_log_train, tgt_npy], axis=0)\n",
        "            # print(\"step {}, lr {}\".format(iter,optimizer.param_groups[0]['lr']))\n",
        "            optimizer.zero_grad()\n",
        "            loss.backward()\n",
        "            optimizer.step()\n",
        "            # scheduler.step()  # Update learning rate\n",
        "            total_train_loss += loss.item()\n",
        "        # print(f'Epoch [{epoch+1}/{num_epochs}], Loss: {avg_loss:.4f}')\n",
        "\n",
        "        if epoch == 0:\n",
        "            max_iteration_clr = iter + 1\n",
        "        train_losses.append(loss.item())\n",
        "        val_loss = check_data(device, val_loader, clr_model, criterion)\n",
        "        val_losses.append(val_loss)# MSE\n",
        "\n",
        "        # print(\"*************validation******************\")\n",
        "        print(\"epoch : {}, val_loss : {}, current lr {} ,rmse : {}\\n\".format(epoch,val_loss, scheduler.get_lr()[0], math.sqrt(val_loss)))\n",
        "        # print(\"epoch : {}, val_loss : {}, current lr {} ,rmse : {}\\n\".format(epoch,val_loss, optimizer.param_groups[0]['lr'], math.sqrt(val_loss)))\n",
        "\n",
        "        #   save low train loss model\n",
        "        if loss < best_train_loss_clr:\n",
        "            best_train_loss_clr = loss\n",
        "            best_train_epoch_clr = epoch\n",
        "            torch.save(model.state_dict(), os.path.join(model_path, \"best_train_loss_model_clr.model\"))\n",
        "\n",
        "        # save low val loss model\n",
        "        if val_loss < best_val_loss_clr:\n",
        "            best_val_loss_clr = val_loss\n",
        "            best_val_epoch_clr = epoch\n",
        "            torch.save(model.state_dict(), os.path.join(model_path, \"best_val_loss_model_clr.model\"))\n",
        "\n",
        "        # save both loss model\n",
        "        if loss < best_train_loss_clr and val_loss < best_val_loss_clr:\n",
        "            best_both_loss_clr = (loss, val_loss)\n",
        "            best_both_epoch_clr = epoch\n",
        "            torch.save(model.state_dict(), os.path.join(model_path, \"best_both_loss_model_clr.model\"))\n",
        "\n",
        "        # save model\n",
        "        if epoch % save_each == 0 or epoch == max_epoch - 1:\n",
        "            torch.save(model.state_dict(), os.path.join(model_path, '{}_epoch_clr.model'.format(epoch)))\n",
        "    return train_losses,val_losses\n",
        "# Contoh penggunaan:\n",
        "train_loss_clr,val_loss_clr=train_with_clr(clr_model, train_loader, criterion, optimizer, num_epochs=100,base_lr=best_lr , max_lr_multiplier=8, cycle_size=25)"
      ]
    },
    {
      "cell_type": "code",
      "execution_count": null,
      "metadata": {
        "id": "o_sWKKSoffBK"
      },
      "outputs": [],
      "source": [
        "train_loss_np = np.array(train_loss_clr)\n",
        "val_loss_np = np.array(val_loss_clr)"
      ]
    },
    {
      "cell_type": "code",
      "execution_count": null,
      "metadata": {
        "id": "sQoWXx-EffBL",
        "outputId": "5683bc08-76f0-4743-826c-c3a8cafe06c0"
      },
      "outputs": [
        {
          "data": {
            "image/png": "[encoded data removed]",
            "text/plain": [
              "<Figure size 700x400 with 1 Axes>"
            ]
          },
          "metadata": {},
          "output_type": "display_data"
        }
      ],
      "source": [
        "fig, ax = plt.subplots(figsize=(7,4))\n",
        "ax.plot(train_loss_np, label=\"train\")\n",
        "ax.plot(val_loss_np, label=\"validation\")\n",
        "plt.title(\"MSE Loss\")\n",
        "plt.legend()\n",
        "plt.xlabel('Epoch')\n",
        "plt.ylabel('Loss')\n",
        "plt.show()"
      ]
    },
    {
      "cell_type": "code",
      "execution_count": null,
      "metadata": {},
      "outputs": [
        {
          "name": "stdout",
          "output_type": "stream",
          "text": [
            "Loss terendah 0.00012043074093526229, pada epoch 65\n",
            "Validation Loss terendah 0.000232298248606226, pada epoch 97\n"
          ]
        }
      ],
      "source": [
        "print(\"Loss terendah {}, pada epoch {}\".format(np.min(train_loss_clr),np.argmin(train_loss_clr)))\n",
        "print(\"Validation Loss terendah {}, pada epoch {}\".format(np.min(val_loss_clr),np.argmin(val_loss_clr)))"
      ]
    },
    {
      "cell_type": "code",
      "execution_count": null,
      "metadata": {},
      "outputs": [],
      "source": []
    },
    {
      "cell_type": "code",
      "execution_count": null,
      "metadata": {
        "id": "uufHGVM6ffBL"
      },
      "outputs": [],
      "source": [
        "import torch.optim.lr_scheduler as lr_scheduler\n",
        "\n",
        "def print_clr_schedule(optimizer, base_lr, max_lr_multiplier, num_epochs, cycle_size):\n",
        "    scheduler = lr_scheduler.CyclicLR(optimizer, base_lr=base_lr, max_lr=base_lr*max_lr_multiplier, step_size_up=cycle_size, cycle_momentum=False, mode='triangular2')\n",
        "\n",
        "    learning_rates = []\n",
        "\n",
        "    for epoch in range(num_epochs):\n",
        "        current_lr = scheduler.get_lr()[0]\n",
        "        print(f'Epoch [{epoch+1}/{num_epochs}], Learning Rate: {current_lr:.6f}')\n",
        "        learning_rates.append(current_lr)\n",
        "        scheduler.step()\n",
        "\n",
        "    # Extend the learning_rates list to include the descending phase\n",
        "    learning_rates += learning_rates[-2:0:-1]\n",
        "\n",
        "    # Plot learning rate schedule\n",
        "    plt.plot(range(1, len(learning_rates)+1), learning_rates)\n",
        "    plt.xlabel('Step')\n",
        "    plt.ylabel('Learning Rate')\n",
        "    plt.title('Triangular Learning Rate Schedule')\n",
        "    plt.show()"
      ]
    },
    {
      "cell_type": "code",
      "execution_count": null,
      "metadata": {},
      "outputs": [
        {
          "data": {
            "image/png": "[encoded data removed]",
            "text/plain": [
              "<Figure size 640x480 with 1 Axes>"
            ]
          },
          "metadata": {},
          "output_type": "display_data"
        }
      ],
      "source": [
        "import torch\n",
        "import matplotlib.pyplot as plt\n",
        "import numpy as np\n",
        "\n",
        "def cyclic_lr_cosine(base_lr, max_lr, step_size, iteration):\n",
        "    cycle = np.floor(1 + iteration / (2 * step_size))\n",
        "    x = np.abs(iteration / step_size - 2 * cycle + 1)\n",
        "    lr = base_lr + (max_lr - base_lr) * (1 + np.cos(np.pi * x)) / 2\n",
        "    return lr\n",
        "\n",
        "# Tentukan parameter CLR\n",
        "base_lr = 0.001\n",
        "max_lr = 0.1\n",
        "step_size = 2000\n",
        "\n",
        "# Simulasikan iterasi\n",
        "num_iterations = 10000\n",
        "learning_rates = []\n",
        "\n",
        "for iteration in range(1, num_iterations + 1):\n",
        "    current_lr = cyclic_lr_cosine(base_lr, max_lr, step_size, iteration)\n",
        "    learning_rates.append(current_lr)\n",
        "\n",
        "# Plot learning rate schedule\n",
        "plt.plot(range(1, num_iterations + 1), learning_rates)\n",
        "plt.xlabel('Iteration')\n",
        "plt.ylabel('Learning Rate')\n",
        "plt.title('Cyclic Learning Rate Schedule')\n",
        "plt.show()"
      ]
    },
    {
      "cell_type": "code",
      "execution_count": null,
      "metadata": {
        "id": "VS9tf2i5ffBL",
        "outputId": "eb68ae61-aa60-42f5-8ac6-eb36ae298881"
      },
      "outputs": [],
      "source": [
        "# print_clr_schedule(optimizer, base_lr=1e-2, max_lr_multiplier=8, num_epochs=100, cycle_size=20)"
      ]
    },
    {
      "cell_type": "markdown",
      "metadata": {
        "id": "rOcXn7SBmieg"
      },
      "source": [
        "## Testing"
      ]
    },
    {
      "cell_type": "markdown",
      "metadata": {
        "id": "nh4kj5HYk-Mc"
      },
      "source": [
        "Load Data"
      ]
    },
    {
      "cell_type": "code",
      "execution_count": null,
      "metadata": {
        "id": "PH5Er3N_aXAx"
      },
      "outputs": [],
      "source": [
        "def make_dataloader(data, input_step, predict_step, batch_size=1):\n",
        "    dataset = Dataset(data, input_step, predict_step)\n",
        "    dataloader = torch.utils.data.DataLoader(dataset, batch_size=batch_size, shuffle=False)\n",
        "    return dataset, dataloader"
      ]
    },
    {
      "cell_type": "code",
      "execution_count": null,
      "metadata": {
        "id": "imZncLm6a2jL"
      },
      "outputs": [],
      "source": [
        "torch.set_printoptions(precision=5, sci_mode=False)\n",
        "np.set_printoptions(precision=5, suppress=True)\n",
        "\n",
        "device = torch.device(\"cuda\" if torch.cuda.is_available() else \"cpu\")"
      ]
    },
    {
      "cell_type": "code",
      "execution_count": null,
      "metadata": {
        "id": "BTo64-K7agvO"
      },
      "outputs": [],
      "source": [
        "test_set, test_loader = make_dataloader(test, input_step, predict_step, batch_size=600)\n",
        "all_data = test_set.data[:,0]"
      ]
    },
    {
      "cell_type": "code",
      "execution_count": null,
      "metadata": {
        "colab": {
          "base_uri": "https://localhost:8080/"
        },
        "id": "YTjLEsFeXQRS",
        "outputId": "458453d0-cad8-433e-d037-3a67736e75fd"
      },
      "outputs": [
        {
          "data": {
            "text/plain": [
              "120"
            ]
          },
          "execution_count": 2756,
          "metadata": {},
          "output_type": "execute_result"
        }
      ],
      "source": [
        "test.size"
      ]
    },
    {
      "cell_type": "markdown",
      "metadata": {
        "id": "msL_XKH2lG5z"
      },
      "source": [
        "Load Model & State"
      ]
    },
    {
      "cell_type": "code",
      "execution_count": null,
      "metadata": {
        "colab": {
          "base_uri": "https://localhost:8080/"
        },
        "id": "90mbYcVYiGSX",
        "outputId": "59444416-ed86-4bbf-e182-adae012c6271"
      },
      "outputs": [
        {
          "name": "stdout",
          "output_type": "stream",
          "text": [
            "97\n"
          ]
        }
      ],
      "source": [
        "epoch_num = best_val_epoch_clr\n",
        "print(epoch_num)\n",
        "par_path = os.path.join(model_path, \"best_val_loss_model_clr.model\")"
      ]
    },
    {
      "cell_type": "code",
      "execution_count": null,
      "metadata": {
        "id": "u6RHvScCh4Xo"
      },
      "outputs": [],
      "source": [
        "net = Transformer(device, d_model, in_dim, N_enc, N_dec, h_enc, h_dec, ff_hidnum, hid_pre, hid_post, dropout_pre, dropout_post, dropout_model, norm_first)\n",
        "\n",
        "# load parameter\n",
        "if device == torch.device(\"cpu\"):\n",
        "  net.load_state_dict(torch.load(par_path, map_location=torch.device(\"cpu\")))\n",
        "else:\n",
        "  net.load_state_dict(torch.load(par_path,map_location=torch.device(device)))"
      ]
    },
    {
      "cell_type": "markdown",
      "metadata": {
        "id": "4Vz2Sud2lNW-"
      },
      "source": [
        "Testing"
      ]
    },
    {
      "cell_type": "code",
      "execution_count": null,
      "metadata": {
        "id": "iFZrocMbsUHP"
      },
      "outputs": [],
      "source": [
        "net.eval()\n",
        "\n",
        "pred_list = np.zeros((1, predict_step))\n",
        "for iter, (x, y, tgt) in enumerate(test_loader):\n",
        "    tgt = tgt[:,:,0]\n",
        "\n",
        "    out = net.generate(x, tgt.shape[1], y[:,[0],:])\n",
        "    out = out.to('cpu').detach().numpy().copy()\n",
        "\n",
        "    pred_list = np.concatenate([pred_list, out], axis=0)\n",
        "\n",
        "pred_list = pred_list[1:]\n",
        "D = []\n",
        "for i in range(predict_step):\n",
        "    tmp = np.concatenate([all_data[:(input_step+i)], pred_list[:,i], all_data[(all_data.shape[0]-(predict_step - (i + 1))):]])\n",
        "    D.append(tmp)\n",
        "\n",
        "for step_num, tmp_data in enumerate(D):\n",
        "    n = step_num + 1\n",
        "\n",
        "    np.save(os.path.join(test_result_path, \"pred{}_epoch{}\".format(n, epoch_num)), pred_list[:,[step_num]])\n",
        "    np.save(os.path.join(test_result_path, \"tgt{}_epoch{}\".format(n, epoch_num)), tgt[:,[step_num]])"
      ]
    },
    {
      "cell_type": "markdown",
      "metadata": {
        "id": "2Vze_7nVlRGN"
      },
      "source": [
        "Plot"
      ]
    },
    {
      "cell_type": "code",
      "execution_count": null,
      "metadata": {
        "colab": {
          "base_uri": "https://localhost:8080/"
        },
        "id": "e9DwqnP-uXVI",
        "outputId": "6c0e87a2-3f1c-4a3d-8219-38fb541d64c4"
      },
      "outputs": [
        {
          "data": {
            "image/png": "[encoded data removed]",
            "text/plain": [
              "<Figure size 700x300 with 1 Axes>"
            ]
          },
          "metadata": {},
          "output_type": "display_data"
        }
      ],
      "source": [
        "all_data_denorm = np.round(scaler.inverse_transform(all_data.reshape(all_data.size,1)))\n",
        "\n",
        "fig, (ax1) = plt.subplots(1, 1,figsize=(7,3), sharex=True, sharey=True)\n",
        "fig.suptitle(f'Prdiction plot epoch {epoch_num}')\n",
        "\n",
        "for ind, d in enumerate(D):\n",
        "  d_denorm = np.round(scaler.inverse_transform(d.reshape(d.size,1)))\n",
        "\n",
        "  exec(\"ax\"+str(ind+1)+\".plot(all_data_denorm, label='true')\")\n",
        "  exec(\"ax\"+str(ind+1)+\".plot(d_denorm, label=f'predict {ind+1}')\")\n",
        "  exec(\"ax\"+str(ind+1)+\".axvline(input_step+ind-1,ls='dashed',c='r')\")\n",
        "  # exec(\"ax\"+str(ind+1)+\".set_title(f'predict {ind+1}')\")\n",
        "  exec(\"ax\"+str(ind+1)+\".legend()\")"
      ]
    },
    {
      "cell_type": "markdown",
      "metadata": {
        "id": "FQhSG5jvTn9z"
      },
      "source": [
        "## Error"
      ]
    },
    {
      "cell_type": "code",
      "execution_count": null,
      "metadata": {
        "id": "zwQpUtwkPCbK"
      },
      "outputs": [],
      "source": [
        "from sklearn.metrics import mean_squared_error, mean_absolute_error, mean_absolute_percentage_error"
      ]
    },
    {
      "cell_type": "code",
      "execution_count": null,
      "metadata": {
        "colab": {
          "base_uri": "https://localhost:8080/"
        },
        "id": "woEOizZZ3Vrv",
        "outputId": "0a676690-bb18-40fe-d9b9-c19a6bf0ca48"
      },
      "outputs": [
        {
          "name": "stdout",
          "output_type": "stream",
          "text": [
            "Error Pred 1\n",
            "MAPE\t : 61.018458723942324\n",
            "MAE\t : 7582.008620689655\n",
            "MSE\t : 1415682818.3189654\n",
            "RMSE\t : 37625.56070437975\n",
            "\n"
          ]
        }
      ],
      "source": [
        "for ind, d in enumerate(D):\n",
        "    d_denorm = np.round(scaler.inverse_transform(d.reshape(d.size,1)))\n",
        "    print(f\"Error Pred {ind+1}\")\n",
        "    print(f\"MAPE\\t : {mean_absolute_percentage_error(all_data_denorm[input_step+ind:], d_denorm[input_step+ind:])*100}\")\n",
        "    print(f\"MAE\\t : {mean_absolute_error(all_data_denorm[input_step+ind:], d_denorm[input_step+ind:])}\")\n",
        "    print(f\"MSE\\t : {mean_squared_error(all_data_denorm[input_step+ind:], d_denorm[input_step+ind:])}\")\n",
        "    print(f\"RMSE\\t : {np.sqrt(mean_squared_error(all_data_denorm[input_step+ind:], d_denorm[input_step+ind:]))}\\n\")"
      ]
    },
    {
      "cell_type": "markdown",
      "metadata": {
        "id": "HWqBXMUErwwK"
      },
      "source": [
        "# LSTM"
      ]
    },
    {
      "cell_type": "markdown",
      "metadata": {
        "id": "xSItPJipBaZ5"
      },
      "source": [
        "## Library"
      ]
    },
    {
      "cell_type": "code",
      "execution_count": null,
      "metadata": {
        "id": "wb-Z7wNKUJko"
      },
      "outputs": [],
      "source": [
        "import numpy as np\n",
        "import matplotlib.pyplot as plt\n",
        "import pandas as pd\n",
        "import torch\n",
        "import torch.nn as nn\n",
        "from torch.autograd import Variable\n",
        "from sklearn.preprocessing import MinMaxScaler"
      ]
    },
    {
      "cell_type": "markdown",
      "metadata": {
        "id": "--1LVbHOBSIy"
      },
      "source": [
        "## Model"
      ]
    },
    {
      "cell_type": "code",
      "execution_count": null,
      "metadata": {
        "id": "xfsVgtLGSXUv"
      },
      "outputs": [],
      "source": [
        "class LSTM(nn.Module):\n",
        "\n",
        "    def __init__(self, input_size, num_classes, hidden_size, num_layers):\n",
        "        super(LSTM, self).__init__()\n",
        "\n",
        "        self.num_classes = num_classes\n",
        "        self.num_layers = num_layers\n",
        "        self.input_size = input_size\n",
        "        self.hidden_size = hidden_size\n",
        "        self.seq_length = seq_length\n",
        "\n",
        "        self.lstm = nn.LSTM(input_size=input_size, hidden_size=hidden_size,\n",
        "                            num_layers=num_layers, batch_first=True)\n",
        "\n",
        "        self.fc = nn.Linear(hidden_size, num_classes)\n",
        "\n",
        "    def forward(self, x):\n",
        "        h_0 = Variable(torch.zeros(\n",
        "            self.num_layers, x.size(0), self.hidden_size))\n",
        "\n",
        "        c_0 = Variable(torch.zeros(\n",
        "            self.num_layers, x.size(0), self.hidden_size))\n",
        "\n",
        "        # Propagate input through LSTM\n",
        "        ula, (h_out, _) = self.lstm(x, (h_0, c_0))\n",
        "\n",
        "        h_out = h_out.view(-1, self.hidden_size)\n",
        "\n",
        "        out = self.fc(h_out)\n",
        "\n",
        "        return out"
      ]
    },
    {
      "cell_type": "markdown",
      "metadata": {
        "id": "NabsV8O5BBd5"
      },
      "source": [
        "## Dataset"
      ]
    },
    {
      "cell_type": "code",
      "execution_count": null,
      "metadata": {
        "id": "sE7wChRlARDW"
      },
      "outputs": [],
      "source": [
        "# data_path = 'https://data.covid19.go.id/public/api/update.json'\n",
        "# data_path = 'update_22-3-2022.json'\n",
        "import requests\n",
        "import json\n",
        "import pandas as pd\n",
        "\n",
        "def load_data(data_path, from_api=True, dataset_len=None):\n",
        "    data = requests.get(data_path).json() if from_api else pd.read_json(data_path)\n",
        "\n",
        "    df = pd.DataFrame(data['update']['harian'])[['key','jumlah_positif']]\n",
        "    df.key = pd.to_datetime(df.key, unit='ms')\n",
        "\n",
        "    for i, row in enumerate(df.jumlah_positif):\n",
        "        df.loc[i,['jumlah_positif']] = row.get('value')\n",
        "\n",
        "    df = df.set_index('key')\n",
        "    data_len = df.shape[0]\n",
        "    numpy_use = df.to_numpy() if dataset_len == None else df[:dataset_len].to_numpy()\n",
        "\n",
        "    return numpy_use"
      ]
    },
    {
      "cell_type": "code",
      "execution_count": null,
      "metadata": {
        "id": "RwQF4Y85-Hpn",
        "outputId": "b6f0ced5-9878-496a-b0cc-6c33aa5d57dd"
      },
      "outputs": [
        {
          "ename": "ConnectTimeout",
          "evalue": "HTTPSConnectionPool(host='data.covid19.go.id', port=443): Max retries exceeded with url: /public/api/update.json (Caused by ConnectTimeoutError(<urllib3.connection.HTTPSConnection object at 0x0000019A3D801FC0>, 'Connection to data.covid19.go.id timed out. (connect timeout=None)'))",
          "output_type": "error",
          "traceback": [
            "\u001b[1;31m---------------------------------------------------------------------------\u001b[0m",
            "\u001b[1;31mTimeoutError\u001b[0m                              Traceback (most recent call last)",
            "File \u001b[1;32mc:\\Users\\arthu\\Documents\\EDUCATION\\Kuliah\\SEM 7\\Code\\.venv\\lib\\site-packages\\urllib3\\connection.py:174\u001b[0m, in \u001b[0;36mHTTPConnection._new_conn\u001b[1;34m(self)\u001b[0m\n\u001b[0;32m    173\u001b[0m \u001b[39mtry\u001b[39;00m:\n\u001b[1;32m--> 174\u001b[0m     conn \u001b[39m=\u001b[39m connection\u001b[39m.\u001b[39mcreate_connection(\n\u001b[0;32m    175\u001b[0m         (\u001b[39mself\u001b[39m\u001b[39m.\u001b[39m_dns_host, \u001b[39mself\u001b[39m\u001b[39m.\u001b[39mport), \u001b[39mself\u001b[39m\u001b[39m.\u001b[39mtimeout, \u001b[39m*\u001b[39m\u001b[39m*\u001b[39mextra_kw\n\u001b[0;32m    176\u001b[0m     )\n\u001b[0;32m    178\u001b[0m \u001b[39mexcept\u001b[39;00m SocketTimeout:\n",
            "File \u001b[1;32mc:\\Users\\arthu\\Documents\\EDUCATION\\Kuliah\\SEM 7\\Code\\.venv\\lib\\site-packages\\urllib3\\util\\connection.py:95\u001b[0m, in \u001b[0;36mcreate_connection\u001b[1;34m(address, timeout, source_address, socket_options)\u001b[0m\n\u001b[0;32m     94\u001b[0m \u001b[39mif\u001b[39;00m err \u001b[39mis\u001b[39;00m \u001b[39mnot\u001b[39;00m \u001b[39mNone\u001b[39;00m:\n\u001b[1;32m---> 95\u001b[0m     \u001b[39mraise\u001b[39;00m err\n\u001b[0;32m     97\u001b[0m \u001b[39mraise\u001b[39;00m socket\u001b[39m.\u001b[39merror(\u001b[39m\"\u001b[39m\u001b[39mgetaddrinfo returns an empty list\u001b[39m\u001b[39m\"\u001b[39m)\n",
            "File \u001b[1;32mc:\\Users\\arthu\\Documents\\EDUCATION\\Kuliah\\SEM 7\\Code\\.venv\\lib\\site-packages\\urllib3\\util\\connection.py:85\u001b[0m, in \u001b[0;36mcreate_connection\u001b[1;34m(address, timeout, source_address, socket_options)\u001b[0m\n\u001b[0;32m     84\u001b[0m     sock\u001b[39m.\u001b[39mbind(source_address)\n\u001b[1;32m---> 85\u001b[0m sock\u001b[39m.\u001b[39;49mconnect(sa)\n\u001b[0;32m     86\u001b[0m \u001b[39mreturn\u001b[39;00m sock\n",
            "\u001b[1;31mTimeoutError\u001b[0m: [WinError 10060] A connection attempt failed because the connected party did not properly respond after a period of time, or established connection failed because connected host has failed to respond",
            "\nDuring handling of the above exception, another exception occurred:\n",
            "\u001b[1;31mConnectTimeoutError\u001b[0m                       Traceback (most recent call last)",
            "File \u001b[1;32mc:\\Users\\arthu\\Documents\\EDUCATION\\Kuliah\\SEM 7\\Code\\.venv\\lib\\site-packages\\urllib3\\connectionpool.py:714\u001b[0m, in \u001b[0;36mHTTPConnectionPool.urlopen\u001b[1;34m(self, method, url, body, headers, retries, redirect, assert_same_host, timeout, pool_timeout, release_conn, chunked, body_pos, **response_kw)\u001b[0m\n\u001b[0;32m    713\u001b[0m \u001b[39m# Make the request on the httplib connection object.\u001b[39;00m\n\u001b[1;32m--> 714\u001b[0m httplib_response \u001b[39m=\u001b[39m \u001b[39mself\u001b[39;49m\u001b[39m.\u001b[39;49m_make_request(\n\u001b[0;32m    715\u001b[0m     conn,\n\u001b[0;32m    716\u001b[0m     method,\n\u001b[0;32m    717\u001b[0m     url,\n\u001b[0;32m    718\u001b[0m     timeout\u001b[39m=\u001b[39;49mtimeout_obj,\n\u001b[0;32m    719\u001b[0m     body\u001b[39m=\u001b[39;49mbody,\n\u001b[0;32m    720\u001b[0m     headers\u001b[39m=\u001b[39;49mheaders,\n\u001b[0;32m    721\u001b[0m     chunked\u001b[39m=\u001b[39;49mchunked,\n\u001b[0;32m    722\u001b[0m )\n\u001b[0;32m    724\u001b[0m \u001b[39m# If we're going to release the connection in ``finally:``, then\u001b[39;00m\n\u001b[0;32m    725\u001b[0m \u001b[39m# the response doesn't need to know about the connection. Otherwise\u001b[39;00m\n\u001b[0;32m    726\u001b[0m \u001b[39m# it will also try to release it and we'll have a double-release\u001b[39;00m\n\u001b[0;32m    727\u001b[0m \u001b[39m# mess.\u001b[39;00m\n",
            "File \u001b[1;32mc:\\Users\\arthu\\Documents\\EDUCATION\\Kuliah\\SEM 7\\Code\\.venv\\lib\\site-packages\\urllib3\\connectionpool.py:403\u001b[0m, in \u001b[0;36mHTTPConnectionPool._make_request\u001b[1;34m(self, conn, method, url, timeout, chunked, **httplib_request_kw)\u001b[0m\n\u001b[0;32m    402\u001b[0m \u001b[39mtry\u001b[39;00m:\n\u001b[1;32m--> 403\u001b[0m     \u001b[39mself\u001b[39;49m\u001b[39m.\u001b[39;49m_validate_conn(conn)\n\u001b[0;32m    404\u001b[0m \u001b[39mexcept\u001b[39;00m (SocketTimeout, BaseSSLError) \u001b[39mas\u001b[39;00m e:\n\u001b[0;32m    405\u001b[0m     \u001b[39m# Py2 raises this as a BaseSSLError, Py3 raises it as socket timeout.\u001b[39;00m\n",
            "File \u001b[1;32mc:\\Users\\arthu\\Documents\\EDUCATION\\Kuliah\\SEM 7\\Code\\.venv\\lib\\site-packages\\urllib3\\connectionpool.py:1053\u001b[0m, in \u001b[0;36mHTTPSConnectionPool._validate_conn\u001b[1;34m(self, conn)\u001b[0m\n\u001b[0;32m   1052\u001b[0m \u001b[39mif\u001b[39;00m \u001b[39mnot\u001b[39;00m \u001b[39mgetattr\u001b[39m(conn, \u001b[39m\"\u001b[39m\u001b[39msock\u001b[39m\u001b[39m\"\u001b[39m, \u001b[39mNone\u001b[39;00m):  \u001b[39m# AppEngine might not have  `.sock`\u001b[39;00m\n\u001b[1;32m-> 1053\u001b[0m     conn\u001b[39m.\u001b[39;49mconnect()\n\u001b[0;32m   1055\u001b[0m \u001b[39mif\u001b[39;00m \u001b[39mnot\u001b[39;00m conn\u001b[39m.\u001b[39mis_verified:\n",
            "File \u001b[1;32mc:\\Users\\arthu\\Documents\\EDUCATION\\Kuliah\\SEM 7\\Code\\.venv\\lib\\site-packages\\urllib3\\connection.py:363\u001b[0m, in \u001b[0;36mHTTPSConnection.connect\u001b[1;34m(self)\u001b[0m\n\u001b[0;32m    361\u001b[0m \u001b[39mdef\u001b[39;00m \u001b[39mconnect\u001b[39m(\u001b[39mself\u001b[39m):\n\u001b[0;32m    362\u001b[0m     \u001b[39m# Add certificate verification\u001b[39;00m\n\u001b[1;32m--> 363\u001b[0m     \u001b[39mself\u001b[39m\u001b[39m.\u001b[39msock \u001b[39m=\u001b[39m conn \u001b[39m=\u001b[39m \u001b[39mself\u001b[39;49m\u001b[39m.\u001b[39;49m_new_conn()\n\u001b[0;32m    364\u001b[0m     hostname \u001b[39m=\u001b[39m \u001b[39mself\u001b[39m\u001b[39m.\u001b[39mhost\n",
            "File \u001b[1;32mc:\\Users\\arthu\\Documents\\EDUCATION\\Kuliah\\SEM 7\\Code\\.venv\\lib\\site-packages\\urllib3\\connection.py:179\u001b[0m, in \u001b[0;36mHTTPConnection._new_conn\u001b[1;34m(self)\u001b[0m\n\u001b[0;32m    178\u001b[0m \u001b[39mexcept\u001b[39;00m SocketTimeout:\n\u001b[1;32m--> 179\u001b[0m     \u001b[39mraise\u001b[39;00m ConnectTimeoutError(\n\u001b[0;32m    180\u001b[0m         \u001b[39mself\u001b[39m,\n\u001b[0;32m    181\u001b[0m         \u001b[39m\"\u001b[39m\u001b[39mConnection to \u001b[39m\u001b[39m%s\u001b[39;00m\u001b[39m timed out. (connect timeout=\u001b[39m\u001b[39m%s\u001b[39;00m\u001b[39m)\u001b[39m\u001b[39m\"\u001b[39m\n\u001b[0;32m    182\u001b[0m         \u001b[39m%\u001b[39m (\u001b[39mself\u001b[39m\u001b[39m.\u001b[39mhost, \u001b[39mself\u001b[39m\u001b[39m.\u001b[39mtimeout),\n\u001b[0;32m    183\u001b[0m     )\n\u001b[0;32m    185\u001b[0m \u001b[39mexcept\u001b[39;00m SocketError \u001b[39mas\u001b[39;00m e:\n",
            "\u001b[1;31mConnectTimeoutError\u001b[0m: (<urllib3.connection.HTTPSConnection object at 0x0000019A3D801FC0>, 'Connection to data.covid19.go.id timed out. (connect timeout=None)')",
            "\nDuring handling of the above exception, another exception occurred:\n",
            "\u001b[1;31mMaxRetryError\u001b[0m                             Traceback (most recent call last)",
            "File \u001b[1;32mc:\\Users\\arthu\\Documents\\EDUCATION\\Kuliah\\SEM 7\\Code\\.venv\\lib\\site-packages\\requests\\adapters.py:486\u001b[0m, in \u001b[0;36mHTTPAdapter.send\u001b[1;34m(self, request, stream, timeout, verify, cert, proxies)\u001b[0m\n\u001b[0;32m    485\u001b[0m \u001b[39mtry\u001b[39;00m:\n\u001b[1;32m--> 486\u001b[0m     resp \u001b[39m=\u001b[39m conn\u001b[39m.\u001b[39;49murlopen(\n\u001b[0;32m    487\u001b[0m         method\u001b[39m=\u001b[39;49mrequest\u001b[39m.\u001b[39;49mmethod,\n\u001b[0;32m    488\u001b[0m         url\u001b[39m=\u001b[39;49murl,\n\u001b[0;32m    489\u001b[0m         body\u001b[39m=\u001b[39;49mrequest\u001b[39m.\u001b[39;49mbody,\n\u001b[0;32m    490\u001b[0m         headers\u001b[39m=\u001b[39;49mrequest\u001b[39m.\u001b[39;49mheaders,\n\u001b[0;32m    491\u001b[0m         redirect\u001b[39m=\u001b[39;49m\u001b[39mFalse\u001b[39;49;00m,\n\u001b[0;32m    492\u001b[0m         assert_same_host\u001b[39m=\u001b[39;49m\u001b[39mFalse\u001b[39;49;00m,\n\u001b[0;32m    493\u001b[0m         preload_content\u001b[39m=\u001b[39;49m\u001b[39mFalse\u001b[39;49;00m,\n\u001b[0;32m    494\u001b[0m         decode_content\u001b[39m=\u001b[39;49m\u001b[39mFalse\u001b[39;49;00m,\n\u001b[0;32m    495\u001b[0m         retries\u001b[39m=\u001b[39;49m\u001b[39mself\u001b[39;49m\u001b[39m.\u001b[39;49mmax_retries,\n\u001b[0;32m    496\u001b[0m         timeout\u001b[39m=\u001b[39;49mtimeout,\n\u001b[0;32m    497\u001b[0m         chunked\u001b[39m=\u001b[39;49mchunked,\n\u001b[0;32m    498\u001b[0m     )\n\u001b[0;32m    500\u001b[0m \u001b[39mexcept\u001b[39;00m (ProtocolError, \u001b[39mOSError\u001b[39;00m) \u001b[39mas\u001b[39;00m err:\n",
            "File \u001b[1;32mc:\\Users\\arthu\\Documents\\EDUCATION\\Kuliah\\SEM 7\\Code\\.venv\\lib\\site-packages\\urllib3\\connectionpool.py:798\u001b[0m, in \u001b[0;36mHTTPConnectionPool.urlopen\u001b[1;34m(self, method, url, body, headers, retries, redirect, assert_same_host, timeout, pool_timeout, release_conn, chunked, body_pos, **response_kw)\u001b[0m\n\u001b[0;32m    796\u001b[0m     e \u001b[39m=\u001b[39m ProtocolError(\u001b[39m\"\u001b[39m\u001b[39mConnection aborted.\u001b[39m\u001b[39m\"\u001b[39m, e)\n\u001b[1;32m--> 798\u001b[0m retries \u001b[39m=\u001b[39m retries\u001b[39m.\u001b[39;49mincrement(\n\u001b[0;32m    799\u001b[0m     method, url, error\u001b[39m=\u001b[39;49me, _pool\u001b[39m=\u001b[39;49m\u001b[39mself\u001b[39;49m, _stacktrace\u001b[39m=\u001b[39;49msys\u001b[39m.\u001b[39;49mexc_info()[\u001b[39m2\u001b[39;49m]\n\u001b[0;32m    800\u001b[0m )\n\u001b[0;32m    801\u001b[0m retries\u001b[39m.\u001b[39msleep()\n",
            "File \u001b[1;32mc:\\Users\\arthu\\Documents\\EDUCATION\\Kuliah\\SEM 7\\Code\\.venv\\lib\\site-packages\\urllib3\\util\\retry.py:592\u001b[0m, in \u001b[0;36mRetry.increment\u001b[1;34m(self, method, url, response, error, _pool, _stacktrace)\u001b[0m\n\u001b[0;32m    591\u001b[0m \u001b[39mif\u001b[39;00m new_retry\u001b[39m.\u001b[39mis_exhausted():\n\u001b[1;32m--> 592\u001b[0m     \u001b[39mraise\u001b[39;00m MaxRetryError(_pool, url, error \u001b[39mor\u001b[39;00m ResponseError(cause))\n\u001b[0;32m    594\u001b[0m log\u001b[39m.\u001b[39mdebug(\u001b[39m\"\u001b[39m\u001b[39mIncremented Retry for (url=\u001b[39m\u001b[39m'\u001b[39m\u001b[39m%s\u001b[39;00m\u001b[39m'\u001b[39m\u001b[39m): \u001b[39m\u001b[39m%r\u001b[39;00m\u001b[39m\"\u001b[39m, url, new_retry)\n",
            "\u001b[1;31mMaxRetryError\u001b[0m: HTTPSConnectionPool(host='data.covid19.go.id', port=443): Max retries exceeded with url: /public/api/update.json (Caused by ConnectTimeoutError(<urllib3.connection.HTTPSConnection object at 0x0000019A3D801FC0>, 'Connection to data.covid19.go.id timed out. (connect timeout=None)'))",
            "\nDuring handling of the above exception, another exception occurred:\n",
            "\u001b[1;31mConnectTimeout\u001b[0m                            Traceback (most recent call last)",
            "\u001b[1;32mc:\\Users\\arthu\\Documents\\EDUCATION\\Kuliah\\SEM 7\\Code\\Deep_Transformer_clr.ipynb Cell 99\u001b[0m line \u001b[0;36m2\n\u001b[0;32m      <a href='vscode-notebook-cell:/c%3A/Users/arthu/Documents/EDUCATION/Kuliah/SEM%207/Code/Deep_Transformer_clr.ipynb#Y200sZmlsZQ%3D%3D?line=0'>1</a>\u001b[0m \u001b[39m# data = load_data('update 12-05-2022.json', from_api=False, dataset_len=750)\u001b[39;00m\n\u001b[1;32m----> <a href='vscode-notebook-cell:/c%3A/Users/arthu/Documents/EDUCATION/Kuliah/SEM%207/Code/Deep_Transformer_clr.ipynb#Y200sZmlsZQ%3D%3D?line=1'>2</a>\u001b[0m data \u001b[39m=\u001b[39m load_data(\u001b[39m'\u001b[39;49m\u001b[39mhttps://data.covid19.go.id/public/api/update.json\u001b[39;49m\u001b[39m'\u001b[39;49m, dataset_len\u001b[39m=\u001b[39;49m\u001b[39m750\u001b[39;49m)\n",
            "\u001b[1;32mc:\\Users\\arthu\\Documents\\EDUCATION\\Kuliah\\SEM 7\\Code\\Deep_Transformer_clr.ipynb Cell 99\u001b[0m line \u001b[0;36m8\n\u001b[0;32m      <a href='vscode-notebook-cell:/c%3A/Users/arthu/Documents/EDUCATION/Kuliah/SEM%207/Code/Deep_Transformer_clr.ipynb#Y200sZmlsZQ%3D%3D?line=6'>7</a>\u001b[0m \u001b[39mdef\u001b[39;00m \u001b[39mload_data\u001b[39m(data_path, from_api\u001b[39m=\u001b[39m\u001b[39mTrue\u001b[39;00m, dataset_len\u001b[39m=\u001b[39m\u001b[39mNone\u001b[39;00m):\n\u001b[1;32m----> <a href='vscode-notebook-cell:/c%3A/Users/arthu/Documents/EDUCATION/Kuliah/SEM%207/Code/Deep_Transformer_clr.ipynb#Y200sZmlsZQ%3D%3D?line=7'>8</a>\u001b[0m     data \u001b[39m=\u001b[39m requests\u001b[39m.\u001b[39;49mget(data_path)\u001b[39m.\u001b[39mjson() \u001b[39mif\u001b[39;00m from_api \u001b[39melse\u001b[39;00m pd\u001b[39m.\u001b[39mread_json(data_path)\n\u001b[0;32m     <a href='vscode-notebook-cell:/c%3A/Users/arthu/Documents/EDUCATION/Kuliah/SEM%207/Code/Deep_Transformer_clr.ipynb#Y200sZmlsZQ%3D%3D?line=9'>10</a>\u001b[0m     df \u001b[39m=\u001b[39m pd\u001b[39m.\u001b[39mDataFrame(data[\u001b[39m'\u001b[39m\u001b[39mupdate\u001b[39m\u001b[39m'\u001b[39m][\u001b[39m'\u001b[39m\u001b[39mharian\u001b[39m\u001b[39m'\u001b[39m])[[\u001b[39m'\u001b[39m\u001b[39mkey\u001b[39m\u001b[39m'\u001b[39m,\u001b[39m'\u001b[39m\u001b[39mjumlah_positif\u001b[39m\u001b[39m'\u001b[39m]]\n\u001b[0;32m     <a href='vscode-notebook-cell:/c%3A/Users/arthu/Documents/EDUCATION/Kuliah/SEM%207/Code/Deep_Transformer_clr.ipynb#Y200sZmlsZQ%3D%3D?line=10'>11</a>\u001b[0m     df\u001b[39m.\u001b[39mkey \u001b[39m=\u001b[39m pd\u001b[39m.\u001b[39mto_datetime(df\u001b[39m.\u001b[39mkey, unit\u001b[39m=\u001b[39m\u001b[39m'\u001b[39m\u001b[39mms\u001b[39m\u001b[39m'\u001b[39m)\n",
            "File \u001b[1;32mc:\\Users\\arthu\\Documents\\EDUCATION\\Kuliah\\SEM 7\\Code\\.venv\\lib\\site-packages\\requests\\api.py:73\u001b[0m, in \u001b[0;36mget\u001b[1;34m(url, params, **kwargs)\u001b[0m\n\u001b[0;32m     62\u001b[0m \u001b[39mdef\u001b[39;00m \u001b[39mget\u001b[39m(url, params\u001b[39m=\u001b[39m\u001b[39mNone\u001b[39;00m, \u001b[39m*\u001b[39m\u001b[39m*\u001b[39mkwargs):\n\u001b[0;32m     63\u001b[0m \u001b[39m    \u001b[39m\u001b[39mr\u001b[39m\u001b[39m\"\"\"Sends a GET request.\u001b[39;00m\n\u001b[0;32m     64\u001b[0m \n\u001b[0;32m     65\u001b[0m \u001b[39m    :param url: URL for the new :class:`Request` object.\u001b[39;00m\n\u001b[1;32m   (...)\u001b[0m\n\u001b[0;32m     70\u001b[0m \u001b[39m    :rtype: requests.Response\u001b[39;00m\n\u001b[0;32m     71\u001b[0m \u001b[39m    \"\"\"\u001b[39;00m\n\u001b[1;32m---> 73\u001b[0m     \u001b[39mreturn\u001b[39;00m request(\u001b[39m\"\u001b[39m\u001b[39mget\u001b[39m\u001b[39m\"\u001b[39m, url, params\u001b[39m=\u001b[39mparams, \u001b[39m*\u001b[39m\u001b[39m*\u001b[39mkwargs)\n",
            "File \u001b[1;32mc:\\Users\\arthu\\Documents\\EDUCATION\\Kuliah\\SEM 7\\Code\\.venv\\lib\\site-packages\\requests\\api.py:59\u001b[0m, in \u001b[0;36mrequest\u001b[1;34m(method, url, **kwargs)\u001b[0m\n\u001b[0;32m     55\u001b[0m \u001b[39m# By using the 'with' statement we are sure the session is closed, thus we\u001b[39;00m\n\u001b[0;32m     56\u001b[0m \u001b[39m# avoid leaving sockets open which can trigger a ResourceWarning in some\u001b[39;00m\n\u001b[0;32m     57\u001b[0m \u001b[39m# cases, and look like a memory leak in others.\u001b[39;00m\n\u001b[0;32m     58\u001b[0m \u001b[39mwith\u001b[39;00m sessions\u001b[39m.\u001b[39mSession() \u001b[39mas\u001b[39;00m session:\n\u001b[1;32m---> 59\u001b[0m     \u001b[39mreturn\u001b[39;00m session\u001b[39m.\u001b[39mrequest(method\u001b[39m=\u001b[39mmethod, url\u001b[39m=\u001b[39murl, \u001b[39m*\u001b[39m\u001b[39m*\u001b[39mkwargs)\n",
            "File \u001b[1;32mc:\\Users\\arthu\\Documents\\EDUCATION\\Kuliah\\SEM 7\\Code\\.venv\\lib\\site-packages\\requests\\sessions.py:589\u001b[0m, in \u001b[0;36mSession.request\u001b[1;34m(self, method, url, params, data, headers, cookies, files, auth, timeout, allow_redirects, proxies, hooks, stream, verify, cert, json)\u001b[0m\n\u001b[0;32m    584\u001b[0m send_kwargs \u001b[39m=\u001b[39m {\n\u001b[0;32m    585\u001b[0m     \u001b[39m\"\u001b[39m\u001b[39mtimeout\u001b[39m\u001b[39m\"\u001b[39m: timeout,\n\u001b[0;32m    586\u001b[0m     \u001b[39m\"\u001b[39m\u001b[39mallow_redirects\u001b[39m\u001b[39m\"\u001b[39m: allow_redirects,\n\u001b[0;32m    587\u001b[0m }\n\u001b[0;32m    588\u001b[0m send_kwargs\u001b[39m.\u001b[39mupdate(settings)\n\u001b[1;32m--> 589\u001b[0m resp \u001b[39m=\u001b[39m \u001b[39mself\u001b[39m\u001b[39m.\u001b[39msend(prep, \u001b[39m*\u001b[39m\u001b[39m*\u001b[39msend_kwargs)\n\u001b[0;32m    591\u001b[0m \u001b[39mreturn\u001b[39;00m resp\n",
            "File \u001b[1;32mc:\\Users\\arthu\\Documents\\EDUCATION\\Kuliah\\SEM 7\\Code\\.venv\\lib\\site-packages\\requests\\sessions.py:703\u001b[0m, in \u001b[0;36mSession.send\u001b[1;34m(self, request, **kwargs)\u001b[0m\n\u001b[0;32m    700\u001b[0m start \u001b[39m=\u001b[39m preferred_clock()\n\u001b[0;32m    702\u001b[0m \u001b[39m# Send the request\u001b[39;00m\n\u001b[1;32m--> 703\u001b[0m r \u001b[39m=\u001b[39m adapter\u001b[39m.\u001b[39msend(request, \u001b[39m*\u001b[39m\u001b[39m*\u001b[39mkwargs)\n\u001b[0;32m    705\u001b[0m \u001b[39m# Total elapsed time of the request (approximately)\u001b[39;00m\n\u001b[0;32m    706\u001b[0m elapsed \u001b[39m=\u001b[39m preferred_clock() \u001b[39m-\u001b[39m start\n",
            "File \u001b[1;32mc:\\Users\\arthu\\Documents\\EDUCATION\\Kuliah\\SEM 7\\Code\\.venv\\lib\\site-packages\\requests\\adapters.py:507\u001b[0m, in \u001b[0;36mHTTPAdapter.send\u001b[1;34m(self, request, stream, timeout, verify, cert, proxies)\u001b[0m\n\u001b[0;32m    504\u001b[0m \u001b[39mif\u001b[39;00m \u001b[39misinstance\u001b[39m(e\u001b[39m.\u001b[39mreason, ConnectTimeoutError):\n\u001b[0;32m    505\u001b[0m     \u001b[39m# TODO: Remove this in 3.0.0: see #2811\u001b[39;00m\n\u001b[0;32m    506\u001b[0m     \u001b[39mif\u001b[39;00m \u001b[39mnot\u001b[39;00m \u001b[39misinstance\u001b[39m(e\u001b[39m.\u001b[39mreason, NewConnectionError):\n\u001b[1;32m--> 507\u001b[0m         \u001b[39mraise\u001b[39;00m ConnectTimeout(e, request\u001b[39m=\u001b[39mrequest)\n\u001b[0;32m    509\u001b[0m \u001b[39mif\u001b[39;00m \u001b[39misinstance\u001b[39m(e\u001b[39m.\u001b[39mreason, ResponseError):\n\u001b[0;32m    510\u001b[0m     \u001b[39mraise\u001b[39;00m RetryError(e, request\u001b[39m=\u001b[39mrequest)\n",
            "\u001b[1;31mConnectTimeout\u001b[0m: HTTPSConnectionPool(host='data.covid19.go.id', port=443): Max retries exceeded with url: /public/api/update.json (Caused by ConnectTimeoutError(<urllib3.connection.HTTPSConnection object at 0x0000019A3D801FC0>, 'Connection to data.covid19.go.id timed out. (connect timeout=None)'))"
          ]
        }
      ],
      "source": [
        "# data = load_data('update 12-05-2022.json', from_api=False, dataset_len=750)\n",
        "data = load_data('https://data.covid19.go.id/public/api/update.json', dataset_len=750)"
      ]
    },
    {
      "cell_type": "code",
      "execution_count": null,
      "metadata": {
        "colab": {
          "base_uri": "https://localhost:8080/"
        },
        "id": "j6MEnfZ3-70K",
        "outputId": "30d509eb-9636-4497-affa-1c35bbd146a2"
      },
      "outputs": [
        {
          "data": {
            "text/plain": [
              "750"
            ]
          },
          "execution_count": 52,
          "metadata": {},
          "output_type": "execute_result"
        }
      ],
      "source": [
        "data.size"
      ]
    },
    {
      "cell_type": "code",
      "execution_count": null,
      "metadata": {
        "id": "vIWvJCpOVmwU"
      },
      "outputs": [],
      "source": [
        "def sliding_windows(data, seq_length):\n",
        "    x = []\n",
        "    y = []\n",
        "\n",
        "    for i in range(len(data)-seq_length-1):\n",
        "        _x = data[i:(i+seq_length)]\n",
        "        _y = data[i+seq_length]\n",
        "        x.append(_x)\n",
        "        y.append(_y)\n",
        "\n",
        "    return np.array(x),np.array(y)\n",
        "\n",
        "sc = MinMaxScaler(feature_range=(-1, 1))\n",
        "training_data = sc.fit_transform(data)\n",
        "\n",
        "seq_length = 7\n",
        "x, y = sliding_windows(training_data, seq_length)\n",
        "\n",
        "test_size = 60\n",
        "train_size = int(len(y) - test_size)\n",
        "\n",
        "dataX = Variable(torch.Tensor(np.array(x)))\n",
        "dataY = Variable(torch.Tensor(np.array(y)))\n",
        "\n",
        "trainX = Variable(torch.Tensor(np.array(x[0:train_size])))\n",
        "trainY = Variable(torch.Tensor(np.array(y[0:train_size])))\n",
        "\n",
        "testX = Variable(torch.Tensor(np.array(x[train_size:len(x)])))\n",
        "testY = Variable(torch.Tensor(np.array(y[train_size:len(y)])))"
      ]
    },
    {
      "cell_type": "markdown",
      "metadata": {
        "id": "tdzFI5GJBUF5"
      },
      "source": [
        "## Training"
      ]
    },
    {
      "cell_type": "code",
      "execution_count": null,
      "metadata": {
        "colab": {
          "base_uri": "https://localhost:8080/"
        },
        "id": "a2vvHeFgVtCp",
        "outputId": "61cbc6ca-f3c7-4b53-f3fa-7d2e8964b636"
      },
      "outputs": [
        {
          "name": "stdout",
          "output_type": "stream",
          "text": [
            "Epoch: 0, loss: 0.94147\n",
            "Epoch: 100, loss: 0.00467\n",
            "Epoch: 200, loss: 0.00414\n",
            "Epoch: 300, loss: 0.00333\n",
            "Epoch: 400, loss: 0.00290\n",
            "Epoch: 500, loss: 0.00271\n",
            "Epoch: 600, loss: 0.00186\n",
            "Epoch: 700, loss: 0.00136\n",
            "Epoch: 800, loss: 0.00117\n",
            "Epoch: 900, loss: 0.00098\n",
            "Epoch: 1000, loss: 0.00076\n",
            "Epoch: 1100, loss: 0.00077\n",
            "Epoch: 1200, loss: 0.00064\n",
            "Epoch: 1300, loss: 0.00065\n",
            "Epoch: 1400, loss: 0.00062\n",
            "Epoch: 1500, loss: 0.00052\n",
            "Epoch: 1600, loss: 0.00050\n",
            "Epoch: 1700, loss: 0.00051\n",
            "Epoch: 1800, loss: 0.00050\n",
            "Epoch: 1900, loss: 0.00049\n"
          ]
        }
      ],
      "source": [
        "num_epochs = 2000\n",
        "learning_rate = 0.01\n",
        "\n",
        "input_size = 1\n",
        "hidden_size = 16\n",
        "num_layers = 1\n",
        "\n",
        "num_classes = 1\n",
        "\n",
        "lstm = LSTM(input_size, num_classes, hidden_size, num_layers)\n",
        "\n",
        "criterion = torch.nn.MSELoss()\n",
        "optimizer = torch.optim.Adam(lstm.parameters(), lr=learning_rate, betas=(0.9,0.98))\n",
        "\n",
        "# hidden = None\n",
        "\n",
        "# Train the model\n",
        "for epoch in range(num_epochs):\n",
        "    # print(trainX.shape)\n",
        "    # outputs, hidden = rnn(trainX, hidden)\n",
        "    outputs = lstm(trainX)\n",
        "    optimizer.zero_grad()\n",
        "\n",
        "    # print(outputs.shape, trainY.shape)\n",
        "    # obtain the loss function\n",
        "    loss = criterion(outputs, trainY)\n",
        "\n",
        "    loss.backward()\n",
        "\n",
        "    optimizer.step()\n",
        "    if epoch % 100 == 0:\n",
        "      print(\"Epoch: %d, loss: %1.5f\" % (epoch, loss.item()))"
      ]
    },
    {
      "cell_type": "markdown",
      "metadata": {
        "id": "35ndYIwIKteS"
      },
      "source": [
        "## Testing\n",
        "\n"
      ]
    },
    {
      "cell_type": "code",
      "execution_count": null,
      "metadata": {
        "colab": {
          "base_uri": "https://localhost:8080/"
        },
        "id": "GAnb88JaKeWr",
        "outputId": "562e0bb3-1f33-428d-9854-3f855761d95d"
      },
      "outputs": [
        {
          "data": {
            "text/plain": [
              "torch.Size([60, 7, 1])"
            ]
          },
          "execution_count": 55,
          "metadata": {},
          "output_type": "execute_result"
        }
      ],
      "source": [
        "testX.shape"
      ]
    },
    {
      "cell_type": "code",
      "execution_count": null,
      "metadata": {
        "id": "CKEzO1jzKydL"
      },
      "outputs": [],
      "source": [
        "lstm.eval()\n",
        "train_predict = lstm(testX)\n",
        "\n",
        "data_predict = train_predict.data.numpy()\n",
        "dataY_plot = testY.data.numpy()\n",
        "\n",
        "data_predict = np.round(sc.inverse_transform(data_predict))\n",
        "np.savetxt('data_predict.csv', data_predict, delimiter=',')\n",
        "\n",
        "dataY_plot = np.round(sc.inverse_transform(dataY_plot))\n",
        "np.savetxt('dataY_plot.csv', dataY_plot, delimiter=',')"
      ]
    },
    {
      "cell_type": "code",
      "execution_count": null,
      "metadata": {
        "colab": {
          "base_uri": "https://localhost:8080/",
          "height": 265
        },
        "id": "19_mmG2FXYPJ",
        "outputId": "dd787174-19bc-4bfb-b163-e8b3ab52c31d"
      },
      "outputs": [
        {
          "data": {
            "image/png": "[encoded data removed]",
            "text/plain": [
              "<Figure size 504x216 with 1 Axes>"
            ]
          },
          "metadata": {
            "needs_background": "light"
          },
          "output_type": "display_data"
        }
      ],
      "source": [
        "import matplotlib.pyplot as plt\n",
        "import matplotlib as mpl\n",
        "import matplotlib.dates as mdates\n",
        "\n",
        "fig, ax = plt.subplots(figsize=(7,3))\n",
        "ax.plot(dataY_plot, label=\"true\", linewidth=1.25)\n",
        "ax.plot(data_predict, label=\"LSTM\", linewidth=0.9)\n",
        "plt.xticks(np.arange(0,61,4),[d.strftime('%Y-%m-%d') for d in pd.date_range('2022-01-21', periods=16, freq='4D')], rotation=45)\n",
        "plt.title(\"LSTM predict vs true\")\n",
        "plt.legend()\n",
        "plt.show()"
      ]
    },
    {
      "cell_type": "markdown",
      "metadata": {
        "id": "-XcfqKK4FN9h"
      },
      "source": [
        "## Error"
      ]
    },
    {
      "cell_type": "code",
      "execution_count": null,
      "metadata": {
        "id": "F22fB6krDmWy"
      },
      "outputs": [],
      "source": [
        "from sklearn.metrics import mean_squared_error, mean_absolute_error, mean_absolute_percentage_error"
      ]
    },
    {
      "cell_type": "code",
      "execution_count": null,
      "metadata": {
        "colab": {
          "base_uri": "https://localhost:8080/"
        },
        "id": "5iCKnznRFPSO",
        "outputId": "0987e114-80c8-4a58-cf3a-8ceb01da73b9"
      },
      "outputs": [
        {
          "name": "stdout",
          "output_type": "stream",
          "text": [
            "Error Pred\n",
            "MAPE\t : 26.687997579574585\n",
            "MAE\t : 6988.66650390625\n",
            "MSE\t : 85940536.0\n",
            "RMSE\t : 9270.412109375\n",
            "\n"
          ]
        }
      ],
      "source": [
        "print(f\"Error Pred\")\n",
        "print(f\"MAPE\\t : {mean_absolute_percentage_error(data_predict, dataY_plot)*100}\")\n",
        "print(f\"MAE\\t : {mean_absolute_error(data_predict, dataY_plot)}\")\n",
        "print(f\"MSE\\t : {mean_squared_error(data_predict, dataY_plot)}\")\n",
        "print(f\"RMSE\\t : {np.sqrt(mean_squared_error(data_predict, dataY_plot))}\\n\")"
      ]
    },
    {
      "cell_type": "markdown",
      "metadata": {
        "id": "LZKmgYgBoEt2"
      },
      "source": [
        "# RNN"
      ]
    },
    {
      "cell_type": "markdown",
      "metadata": {
        "id": "olQP4qKEoEt2"
      },
      "source": [
        "## Library"
      ]
    },
    {
      "cell_type": "code",
      "execution_count": null,
      "metadata": {
        "id": "BKsBUWM1oEt2"
      },
      "outputs": [],
      "source": [
        "import numpy as np\n",
        "import matplotlib.pyplot as plt\n",
        "import pandas as pd\n",
        "import torch\n",
        "import torch.nn as nn\n",
        "from torch.autograd import Variable\n",
        "from sklearn.preprocessing import MinMaxScaler"
      ]
    },
    {
      "cell_type": "markdown",
      "metadata": {
        "id": "zKX7w5NRoEt3"
      },
      "source": [
        "## Model"
      ]
    },
    {
      "cell_type": "code",
      "execution_count": null,
      "metadata": {
        "id": "ZqM67N9lt1Hm"
      },
      "outputs": [],
      "source": [
        "class RNN(nn.Module):\n",
        "    def __init__(self, input_dim, output_dim,  hidden_dim, layer_dim):\n",
        "        super(RNN, self).__init__()\n",
        "        # Hidden dimensions\n",
        "        self.hidden_dim = hidden_dim\n",
        "\n",
        "        # Number of hidden layers\n",
        "        self.layer_dim = layer_dim\n",
        "\n",
        "        # Building your RNN\n",
        "        # batch_first=True causes input/output tensors to be of shape\n",
        "        # (batch_dim, seq_dim, input_dim)\n",
        "        # batch_dim = number of samples per batch\n",
        "        self.rnn = nn.RNN(input_dim, hidden_dim, layer_dim, batch_first=True, nonlinearity='relu')\n",
        "\n",
        "        # Readout layer\n",
        "        self.fc = nn.Linear(hidden_dim, output_dim)\n",
        "\n",
        "    def forward(self, x):\n",
        "        # Initialize hidden state with zeros\n",
        "        # (layer_dim, batch_size, hidden_dim)\n",
        "        h0 = torch.zeros(self.layer_dim, x.size(0), self.hidden_dim).requires_grad_()\n",
        "\n",
        "        # We need to detach the hidden state to prevent exploding/vanishing gradients\n",
        "        # This is part of truncated backpropagation through time (BPTT)\n",
        "        out, hn = self.rnn(x, h0.detach())\n",
        "\n",
        "        # Index hidden state of last time step\n",
        "        # out.size() --> 100, 28, 10\n",
        "        # out[:, -1, :] --> 100, 10 --> just want last time step hidden states!\n",
        "        out = self.fc(out[:, -1, :])\n",
        "        # out.size() --> 100, 10\n",
        "        return out"
      ]
    },
    {
      "cell_type": "markdown",
      "metadata": {
        "id": "v4IbeWUNoEt3"
      },
      "source": [
        "## Dataset"
      ]
    },
    {
      "cell_type": "code",
      "execution_count": null,
      "metadata": {
        "id": "rkeq88F0oEt3"
      },
      "outputs": [],
      "source": [
        "# data_path = 'https://data.covid19.go.id/public/api/update.json'\n",
        "# data_path = 'update_22-3-2022.json'\n",
        "import requests\n",
        "import json\n",
        "import pandas as pd\n",
        "\n",
        "def load_data(data_path, from_api=True, dataset_len=None):\n",
        "    data = requests.get(data_path).json() if from_api else pd.read_json(data_path)\n",
        "\n",
        "    df = pd.DataFrame(data['update']['harian'])[['key','jumlah_positif']]\n",
        "    df.key = pd.to_datetime(df.key, unit='ms')\n",
        "\n",
        "    for i, row in enumerate(df.jumlah_positif):\n",
        "        df.loc[i,['jumlah_positif']] = row.get('value')\n",
        "\n",
        "    df = df.set_index('key')\n",
        "    data_len = df.shape[0]\n",
        "    numpy_use = df.to_numpy() if dataset_len == None else df[:dataset_len].to_numpy()\n",
        "\n",
        "    return numpy_use"
      ]
    },
    {
      "cell_type": "code",
      "execution_count": null,
      "metadata": {
        "id": "jWZaMmr6oEt3"
      },
      "outputs": [],
      "source": [
        "# data = load_data('update 12-05-2022.json', from_api=False, dataset_len=750)\n",
        "data = load_data('https://data.covid19.go.id/public/api/update.json', dataset_len=750)"
      ]
    },
    {
      "cell_type": "code",
      "execution_count": null,
      "metadata": {
        "colab": {
          "base_uri": "https://localhost:8080/"
        },
        "id": "XtzYhNjuoEt3",
        "outputId": "355d3f14-cdc3-4688-93de-c432c55204e0"
      },
      "outputs": [
        {
          "data": {
            "text/plain": [
              "750"
            ]
          },
          "execution_count": 64,
          "metadata": {},
          "output_type": "execute_result"
        }
      ],
      "source": [
        "data.size"
      ]
    },
    {
      "cell_type": "code",
      "execution_count": null,
      "metadata": {
        "id": "H_wgexu1oEt4"
      },
      "outputs": [],
      "source": [
        "def sliding_windows(data, seq_length):\n",
        "    x = []\n",
        "    y = []\n",
        "\n",
        "    for i in range(len(data)-seq_length-1):\n",
        "        _x = data[i:(i+seq_length)]\n",
        "        _y = data[i+seq_length]\n",
        "        x.append(_x)\n",
        "        y.append(_y)\n",
        "\n",
        "    return np.array(x),np.array(y)\n",
        "\n",
        "sc = MinMaxScaler(feature_range=(-1, 1))\n",
        "training_data = sc.fit_transform(data)\n",
        "\n",
        "seq_length = 7\n",
        "x, y = sliding_windows(training_data, seq_length)\n",
        "\n",
        "test_size = 60\n",
        "train_size = int(len(y) - test_size)\n",
        "\n",
        "dataX = Variable(torch.Tensor(np.array(x)))\n",
        "dataY = Variable(torch.Tensor(np.array(y)))\n",
        "\n",
        "trainX = Variable(torch.Tensor(np.array(x[0:train_size])))\n",
        "trainY = Variable(torch.Tensor(np.array(y[0:train_size])))\n",
        "\n",
        "testX = Variable(torch.Tensor(np.array(x[train_size:len(x)])))\n",
        "testY = Variable(torch.Tensor(np.array(y[train_size:len(y)])))"
      ]
    },
    {
      "cell_type": "markdown",
      "metadata": {
        "id": "uGebfEF6oEt4"
      },
      "source": [
        "## Training"
      ]
    },
    {
      "cell_type": "code",
      "execution_count": null,
      "metadata": {
        "colab": {
          "base_uri": "https://localhost:8080/"
        },
        "id": "wDYxjbSSoEt4",
        "outputId": "a06706c6-2b13-4eb6-deaa-f4825ac191f8"
      },
      "outputs": [
        {
          "name": "stdout",
          "output_type": "stream",
          "text": [
            "Epoch: 0, loss: 0.73357\n",
            "Epoch: 100, loss: 0.00321\n",
            "Epoch: 200, loss: 0.00261\n",
            "Epoch: 300, loss: 0.00238\n",
            "Epoch: 400, loss: 0.00220\n",
            "Epoch: 500, loss: 0.00157\n",
            "Epoch: 600, loss: 0.00152\n",
            "Epoch: 700, loss: 0.00139\n",
            "Epoch: 800, loss: 0.00110\n",
            "Epoch: 900, loss: 0.00107\n",
            "Epoch: 1000, loss: 0.00105\n",
            "Epoch: 1100, loss: 0.00104\n",
            "Epoch: 1200, loss: 0.00095\n",
            "Epoch: 1300, loss: 0.00093\n",
            "Epoch: 1400, loss: 0.00089\n",
            "Epoch: 1500, loss: 0.00092\n",
            "Epoch: 1600, loss: 0.00122\n",
            "Epoch: 1700, loss: 0.00088\n",
            "Epoch: 1800, loss: 0.00085\n",
            "Epoch: 1900, loss: 0.00085\n"
          ]
        }
      ],
      "source": [
        "num_epochs = 2000\n",
        "learning_rate = 0.01\n",
        "\n",
        "input_size = 1\n",
        "hidden_size = 16\n",
        "num_layers = 1\n",
        "\n",
        "num_classes = 1\n",
        "\n",
        "rnn = RNN(input_size, num_classes, hidden_size, num_layers)\n",
        "\n",
        "criterion = torch.nn.MSELoss()\n",
        "optimizer = torch.optim.Adam(rnn.parameters(), lr=learning_rate, betas=(0.9,0.98))\n",
        "\n",
        "# hidden = None\n",
        "\n",
        "# Train the model\n",
        "for epoch in range(num_epochs):\n",
        "    # print(trainX.shape)\n",
        "    # outputs, hidden = rnn(trainX, hidden)\n",
        "    outputs = rnn(trainX)\n",
        "    optimizer.zero_grad()\n",
        "\n",
        "    # print(outputs.shape, trainY.shape)\n",
        "    # obtain the loss function\n",
        "    loss = criterion(outputs, trainY)\n",
        "\n",
        "    loss.backward()\n",
        "\n",
        "    optimizer.step()\n",
        "    if epoch % 100 == 0:\n",
        "      print(\"Epoch: %d, loss: %1.5f\" % (epoch, loss.item()))"
      ]
    },
    {
      "cell_type": "markdown",
      "metadata": {
        "id": "SzBLK0lHoEt4"
      },
      "source": [
        "## Testing\n",
        "\n"
      ]
    },
    {
      "cell_type": "code",
      "execution_count": null,
      "metadata": {
        "colab": {
          "base_uri": "https://localhost:8080/"
        },
        "id": "XzEWR1DuoEt4",
        "outputId": "369b5a42-9216-4e18-e158-176913e84c13"
      },
      "outputs": [
        {
          "data": {
            "text/plain": [
              "torch.Size([60, 7, 1])"
            ]
          },
          "execution_count": 67,
          "metadata": {},
          "output_type": "execute_result"
        }
      ],
      "source": [
        "testX.shape"
      ]
    },
    {
      "cell_type": "code",
      "execution_count": null,
      "metadata": {
        "id": "jsq0gJxUoEt4"
      },
      "outputs": [],
      "source": [
        "rnn.eval()\n",
        "train_predict = rnn(testX)\n",
        "\n",
        "data_predict = train_predict.data.numpy()\n",
        "dataY_plot = testY.data.numpy()\n",
        "\n",
        "data_predict = np.round(sc.inverse_transform(data_predict))\n",
        "np.savetxt('data_predict.csv', data_predict, delimiter=',')\n",
        "\n",
        "dataY_plot = np.round(sc.inverse_transform(dataY_plot))\n",
        "np.savetxt('dataY_plot.csv', dataY_plot, delimiter=',')"
      ]
    },
    {
      "cell_type": "code",
      "execution_count": null,
      "metadata": {
        "colab": {
          "base_uri": "https://localhost:8080/"
        },
        "id": "_f8mCiTzoEt5",
        "outputId": "9290ca0d-2a70-47ba-aea9-38c80fc32137"
      },
      "outputs": [
        {
          "data": {
            "image/png": "[encoded data removed]",
            "text/plain": [
              "<Figure size 504x216 with 1 Axes>"
            ]
          },
          "metadata": {
            "needs_background": "light"
          },
          "output_type": "display_data"
        }
      ],
      "source": [
        "import matplotlib.pyplot as plt\n",
        "import matplotlib as mpl\n",
        "import matplotlib.dates as mdates\n",
        "\n",
        "fig, ax = plt.subplots(figsize=(7,3))\n",
        "ax.plot(dataY_plot, label=\"true\", linewidth=1.25)\n",
        "ax.plot(data_predict, label=\"RNN\", linewidth=0.9)\n",
        "plt.xticks(np.arange(0,61,4),[d.strftime('%Y-%m-%d') for d in pd.date_range('2022-01-21', periods=16, freq='4D')], rotation=45)\n",
        "plt.title(\"RNN predict vs true\")\n",
        "plt.legend()\n",
        "plt.show()"
      ]
    },
    {
      "cell_type": "markdown",
      "metadata": {
        "id": "1mIk-3DqoEt5"
      },
      "source": [
        "## Error"
      ]
    },
    {
      "cell_type": "code",
      "execution_count": null,
      "metadata": {
        "id": "K-US7z6GoEt5"
      },
      "outputs": [],
      "source": [
        "from sklearn.metrics import mean_squared_error, mean_absolute_error, mean_absolute_percentage_error"
      ]
    },
    {
      "cell_type": "code",
      "execution_count": null,
      "metadata": {
        "colab": {
          "base_uri": "https://localhost:8080/"
        },
        "id": "Qcf4PDSsoEt5",
        "outputId": "29ab1342-4fe2-48b2-a882-8de7fae4bc92"
      },
      "outputs": [
        {
          "name": "stdout",
          "output_type": "stream",
          "text": [
            "Error Pred\n",
            "MAPE\t : 30.334004759788513\n",
            "MAE\t : 6421.85009765625\n",
            "MSE\t : 91986568.0\n",
            "RMSE\t : 9590.962890625\n",
            "\n"
          ]
        }
      ],
      "source": [
        "print(f\"Error Pred\")\n",
        "print(f\"MAPE\\t : {mean_absolute_percentage_error(data_predict, dataY_plot)*100}\")\n",
        "print(f\"MAE\\t : {mean_absolute_error(data_predict, dataY_plot)}\")\n",
        "print(f\"MSE\\t : {mean_squared_error(data_predict, dataY_plot)}\")\n",
        "print(f\"RMSE\\t : {np.sqrt(mean_squared_error(data_predict, dataY_plot))}\\n\")"
      ]
    }
  ],
  "metadata": {
    "colab": {
      "provenance": [],
      "toc_visible": true
    },
    "gpuClass": "standard",
    "kernelspec": {
      "display_name": "Python 3",
      "name": "python3"
    },
    "language_info": {
      "codemirror_mode": {
        "name": "ipython",
        "version": 3
      },
      "file_extension": ".py",
      "mimetype": "text/x-python",
      "name": "python",
      "nbconvert_exporter": "python",
      "pygments_lexer": "ipython3",
      "version": "3.10.9"
    }
  },
  "nbformat": 4,
  "nbformat_minor": 0
}
